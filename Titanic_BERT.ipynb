{
  "nbformat": 4,
  "nbformat_minor": 0,
  "metadata": {
    "colab": {
      "name": "Titanic-BERT.ipynb",
      "provenance": [],
      "collapsed_sections": [],
      "authorship_tag": "ABX9TyNObC1/FTmcPEbsb4s1+i50",
      "include_colab_link": true
    },
    "kernelspec": {
      "name": "python3",
      "display_name": "Python 3"
    },
    "language_info": {
      "name": "python"
    },
    "accelerator": "TPU",
    "widgets": {
      "application/vnd.jupyter.widget-state+json": {
        "55b31e73050245b9bd533b920f9b3b72": {
          "model_module": "@jupyter-widgets/controls",
          "model_name": "HBoxModel",
          "model_module_version": "1.5.0",
          "state": {
            "_view_name": "HBoxView",
            "_dom_classes": [],
            "_model_name": "HBoxModel",
            "_view_module": "@jupyter-widgets/controls",
            "_model_module_version": "1.5.0",
            "_view_count": null,
            "_view_module_version": "1.5.0",
            "box_style": "",
            "layout": "IPY_MODEL_b1bf81c55a3f4fdca2ca4ec6bf2e5fa6",
            "_model_module": "@jupyter-widgets/controls",
            "children": [
              "IPY_MODEL_ed6cd41ae10d4f96b51990b953f891e9",
              "IPY_MODEL_b3a293f1d10a4e07a85a1d00cebb365d",
              "IPY_MODEL_112acdd2bd494a9283b76004d2f7a382"
            ]
          }
        },
        "b1bf81c55a3f4fdca2ca4ec6bf2e5fa6": {
          "model_module": "@jupyter-widgets/base",
          "model_name": "LayoutModel",
          "model_module_version": "1.2.0",
          "state": {
            "_view_name": "LayoutView",
            "grid_template_rows": null,
            "right": null,
            "justify_content": null,
            "_view_module": "@jupyter-widgets/base",
            "overflow": null,
            "_model_module_version": "1.2.0",
            "_view_count": null,
            "flex_flow": null,
            "width": null,
            "min_width": null,
            "border": null,
            "align_items": null,
            "bottom": null,
            "_model_module": "@jupyter-widgets/base",
            "top": null,
            "grid_column": null,
            "overflow_y": null,
            "overflow_x": null,
            "grid_auto_flow": null,
            "grid_area": null,
            "grid_template_columns": null,
            "flex": null,
            "_model_name": "LayoutModel",
            "justify_items": null,
            "grid_row": null,
            "max_height": null,
            "align_content": null,
            "visibility": null,
            "align_self": null,
            "height": null,
            "min_height": null,
            "padding": null,
            "grid_auto_rows": null,
            "grid_gap": null,
            "max_width": null,
            "order": null,
            "_view_module_version": "1.2.0",
            "grid_template_areas": null,
            "object_position": null,
            "object_fit": null,
            "grid_auto_columns": null,
            "margin": null,
            "display": null,
            "left": null
          }
        },
        "ed6cd41ae10d4f96b51990b953f891e9": {
          "model_module": "@jupyter-widgets/controls",
          "model_name": "HTMLModel",
          "model_module_version": "1.5.0",
          "state": {
            "_view_name": "HTMLView",
            "style": "IPY_MODEL_ba920f0cce85409f908be94b99cf7096",
            "_dom_classes": [],
            "description": "",
            "_model_name": "HTMLModel",
            "placeholder": "​",
            "_view_module": "@jupyter-widgets/controls",
            "_model_module_version": "1.5.0",
            "value": "Downloading: 100%",
            "_view_count": null,
            "_view_module_version": "1.5.0",
            "description_tooltip": null,
            "_model_module": "@jupyter-widgets/controls",
            "layout": "IPY_MODEL_82fe8295123546d4b3e92a7a3cb6ba2a"
          }
        },
        "b3a293f1d10a4e07a85a1d00cebb365d": {
          "model_module": "@jupyter-widgets/controls",
          "model_name": "FloatProgressModel",
          "model_module_version": "1.5.0",
          "state": {
            "_view_name": "ProgressView",
            "style": "IPY_MODEL_8b4c17ecbf4e4861abaa0e779b946bb0",
            "_dom_classes": [],
            "description": "",
            "_model_name": "FloatProgressModel",
            "bar_style": "success",
            "max": 28,
            "_view_module": "@jupyter-widgets/controls",
            "_model_module_version": "1.5.0",
            "value": 28,
            "_view_count": null,
            "_view_module_version": "1.5.0",
            "orientation": "horizontal",
            "min": 0,
            "description_tooltip": null,
            "_model_module": "@jupyter-widgets/controls",
            "layout": "IPY_MODEL_12f0560e75404407af426363ab5a6288"
          }
        },
        "112acdd2bd494a9283b76004d2f7a382": {
          "model_module": "@jupyter-widgets/controls",
          "model_name": "HTMLModel",
          "model_module_version": "1.5.0",
          "state": {
            "_view_name": "HTMLView",
            "style": "IPY_MODEL_22484e2a77f44ca0a162a3f6969a8bee",
            "_dom_classes": [],
            "description": "",
            "_model_name": "HTMLModel",
            "placeholder": "​",
            "_view_module": "@jupyter-widgets/controls",
            "_model_module_version": "1.5.0",
            "value": " 28.0/28.0 [00:00&lt;00:00, 450B/s]",
            "_view_count": null,
            "_view_module_version": "1.5.0",
            "description_tooltip": null,
            "_model_module": "@jupyter-widgets/controls",
            "layout": "IPY_MODEL_e908f8e04b684263a32875cfc4da5dad"
          }
        },
        "ba920f0cce85409f908be94b99cf7096": {
          "model_module": "@jupyter-widgets/controls",
          "model_name": "DescriptionStyleModel",
          "model_module_version": "1.5.0",
          "state": {
            "_view_name": "StyleView",
            "_model_name": "DescriptionStyleModel",
            "description_width": "",
            "_view_module": "@jupyter-widgets/base",
            "_model_module_version": "1.5.0",
            "_view_count": null,
            "_view_module_version": "1.2.0",
            "_model_module": "@jupyter-widgets/controls"
          }
        },
        "82fe8295123546d4b3e92a7a3cb6ba2a": {
          "model_module": "@jupyter-widgets/base",
          "model_name": "LayoutModel",
          "model_module_version": "1.2.0",
          "state": {
            "_view_name": "LayoutView",
            "grid_template_rows": null,
            "right": null,
            "justify_content": null,
            "_view_module": "@jupyter-widgets/base",
            "overflow": null,
            "_model_module_version": "1.2.0",
            "_view_count": null,
            "flex_flow": null,
            "width": null,
            "min_width": null,
            "border": null,
            "align_items": null,
            "bottom": null,
            "_model_module": "@jupyter-widgets/base",
            "top": null,
            "grid_column": null,
            "overflow_y": null,
            "overflow_x": null,
            "grid_auto_flow": null,
            "grid_area": null,
            "grid_template_columns": null,
            "flex": null,
            "_model_name": "LayoutModel",
            "justify_items": null,
            "grid_row": null,
            "max_height": null,
            "align_content": null,
            "visibility": null,
            "align_self": null,
            "height": null,
            "min_height": null,
            "padding": null,
            "grid_auto_rows": null,
            "grid_gap": null,
            "max_width": null,
            "order": null,
            "_view_module_version": "1.2.0",
            "grid_template_areas": null,
            "object_position": null,
            "object_fit": null,
            "grid_auto_columns": null,
            "margin": null,
            "display": null,
            "left": null
          }
        },
        "8b4c17ecbf4e4861abaa0e779b946bb0": {
          "model_module": "@jupyter-widgets/controls",
          "model_name": "ProgressStyleModel",
          "model_module_version": "1.5.0",
          "state": {
            "_view_name": "StyleView",
            "_model_name": "ProgressStyleModel",
            "description_width": "",
            "_view_module": "@jupyter-widgets/base",
            "_model_module_version": "1.5.0",
            "_view_count": null,
            "_view_module_version": "1.2.0",
            "bar_color": null,
            "_model_module": "@jupyter-widgets/controls"
          }
        },
        "12f0560e75404407af426363ab5a6288": {
          "model_module": "@jupyter-widgets/base",
          "model_name": "LayoutModel",
          "model_module_version": "1.2.0",
          "state": {
            "_view_name": "LayoutView",
            "grid_template_rows": null,
            "right": null,
            "justify_content": null,
            "_view_module": "@jupyter-widgets/base",
            "overflow": null,
            "_model_module_version": "1.2.0",
            "_view_count": null,
            "flex_flow": null,
            "width": null,
            "min_width": null,
            "border": null,
            "align_items": null,
            "bottom": null,
            "_model_module": "@jupyter-widgets/base",
            "top": null,
            "grid_column": null,
            "overflow_y": null,
            "overflow_x": null,
            "grid_auto_flow": null,
            "grid_area": null,
            "grid_template_columns": null,
            "flex": null,
            "_model_name": "LayoutModel",
            "justify_items": null,
            "grid_row": null,
            "max_height": null,
            "align_content": null,
            "visibility": null,
            "align_self": null,
            "height": null,
            "min_height": null,
            "padding": null,
            "grid_auto_rows": null,
            "grid_gap": null,
            "max_width": null,
            "order": null,
            "_view_module_version": "1.2.0",
            "grid_template_areas": null,
            "object_position": null,
            "object_fit": null,
            "grid_auto_columns": null,
            "margin": null,
            "display": null,
            "left": null
          }
        },
        "22484e2a77f44ca0a162a3f6969a8bee": {
          "model_module": "@jupyter-widgets/controls",
          "model_name": "DescriptionStyleModel",
          "model_module_version": "1.5.0",
          "state": {
            "_view_name": "StyleView",
            "_model_name": "DescriptionStyleModel",
            "description_width": "",
            "_view_module": "@jupyter-widgets/base",
            "_model_module_version": "1.5.0",
            "_view_count": null,
            "_view_module_version": "1.2.0",
            "_model_module": "@jupyter-widgets/controls"
          }
        },
        "e908f8e04b684263a32875cfc4da5dad": {
          "model_module": "@jupyter-widgets/base",
          "model_name": "LayoutModel",
          "model_module_version": "1.2.0",
          "state": {
            "_view_name": "LayoutView",
            "grid_template_rows": null,
            "right": null,
            "justify_content": null,
            "_view_module": "@jupyter-widgets/base",
            "overflow": null,
            "_model_module_version": "1.2.0",
            "_view_count": null,
            "flex_flow": null,
            "width": null,
            "min_width": null,
            "border": null,
            "align_items": null,
            "bottom": null,
            "_model_module": "@jupyter-widgets/base",
            "top": null,
            "grid_column": null,
            "overflow_y": null,
            "overflow_x": null,
            "grid_auto_flow": null,
            "grid_area": null,
            "grid_template_columns": null,
            "flex": null,
            "_model_name": "LayoutModel",
            "justify_items": null,
            "grid_row": null,
            "max_height": null,
            "align_content": null,
            "visibility": null,
            "align_self": null,
            "height": null,
            "min_height": null,
            "padding": null,
            "grid_auto_rows": null,
            "grid_gap": null,
            "max_width": null,
            "order": null,
            "_view_module_version": "1.2.0",
            "grid_template_areas": null,
            "object_position": null,
            "object_fit": null,
            "grid_auto_columns": null,
            "margin": null,
            "display": null,
            "left": null
          }
        },
        "35e8c3de56044d29b1f1e77fb4ffabb9": {
          "model_module": "@jupyter-widgets/controls",
          "model_name": "HBoxModel",
          "model_module_version": "1.5.0",
          "state": {
            "_view_name": "HBoxView",
            "_dom_classes": [],
            "_model_name": "HBoxModel",
            "_view_module": "@jupyter-widgets/controls",
            "_model_module_version": "1.5.0",
            "_view_count": null,
            "_view_module_version": "1.5.0",
            "box_style": "",
            "layout": "IPY_MODEL_c5d6ad065f7c48fdb16a700d1dc41452",
            "_model_module": "@jupyter-widgets/controls",
            "children": [
              "IPY_MODEL_a090e4c5849444509c3fcf5c30896940",
              "IPY_MODEL_ce31c524eee24ebab03eae086ff2575b",
              "IPY_MODEL_4a0410e979ca4bd5b75056689d8d8499"
            ]
          }
        },
        "c5d6ad065f7c48fdb16a700d1dc41452": {
          "model_module": "@jupyter-widgets/base",
          "model_name": "LayoutModel",
          "model_module_version": "1.2.0",
          "state": {
            "_view_name": "LayoutView",
            "grid_template_rows": null,
            "right": null,
            "justify_content": null,
            "_view_module": "@jupyter-widgets/base",
            "overflow": null,
            "_model_module_version": "1.2.0",
            "_view_count": null,
            "flex_flow": null,
            "width": null,
            "min_width": null,
            "border": null,
            "align_items": null,
            "bottom": null,
            "_model_module": "@jupyter-widgets/base",
            "top": null,
            "grid_column": null,
            "overflow_y": null,
            "overflow_x": null,
            "grid_auto_flow": null,
            "grid_area": null,
            "grid_template_columns": null,
            "flex": null,
            "_model_name": "LayoutModel",
            "justify_items": null,
            "grid_row": null,
            "max_height": null,
            "align_content": null,
            "visibility": null,
            "align_self": null,
            "height": null,
            "min_height": null,
            "padding": null,
            "grid_auto_rows": null,
            "grid_gap": null,
            "max_width": null,
            "order": null,
            "_view_module_version": "1.2.0",
            "grid_template_areas": null,
            "object_position": null,
            "object_fit": null,
            "grid_auto_columns": null,
            "margin": null,
            "display": null,
            "left": null
          }
        },
        "a090e4c5849444509c3fcf5c30896940": {
          "model_module": "@jupyter-widgets/controls",
          "model_name": "HTMLModel",
          "model_module_version": "1.5.0",
          "state": {
            "_view_name": "HTMLView",
            "style": "IPY_MODEL_5f9be98a13ce4fdfafacbfd424b9eacf",
            "_dom_classes": [],
            "description": "",
            "_model_name": "HTMLModel",
            "placeholder": "​",
            "_view_module": "@jupyter-widgets/controls",
            "_model_module_version": "1.5.0",
            "value": "Downloading: 100%",
            "_view_count": null,
            "_view_module_version": "1.5.0",
            "description_tooltip": null,
            "_model_module": "@jupyter-widgets/controls",
            "layout": "IPY_MODEL_8058224429e24b5690a18acfa3dd1340"
          }
        },
        "ce31c524eee24ebab03eae086ff2575b": {
          "model_module": "@jupyter-widgets/controls",
          "model_name": "FloatProgressModel",
          "model_module_version": "1.5.0",
          "state": {
            "_view_name": "ProgressView",
            "style": "IPY_MODEL_d2902871b8b745c894b74ee9a57717f7",
            "_dom_classes": [],
            "description": "",
            "_model_name": "FloatProgressModel",
            "bar_style": "success",
            "max": 570,
            "_view_module": "@jupyter-widgets/controls",
            "_model_module_version": "1.5.0",
            "value": 570,
            "_view_count": null,
            "_view_module_version": "1.5.0",
            "orientation": "horizontal",
            "min": 0,
            "description_tooltip": null,
            "_model_module": "@jupyter-widgets/controls",
            "layout": "IPY_MODEL_38f0872249a94553b88dae594cf286eb"
          }
        },
        "4a0410e979ca4bd5b75056689d8d8499": {
          "model_module": "@jupyter-widgets/controls",
          "model_name": "HTMLModel",
          "model_module_version": "1.5.0",
          "state": {
            "_view_name": "HTMLView",
            "style": "IPY_MODEL_8c528b8c2b3045babd4a7b31ec0751e9",
            "_dom_classes": [],
            "description": "",
            "_model_name": "HTMLModel",
            "placeholder": "​",
            "_view_module": "@jupyter-widgets/controls",
            "_model_module_version": "1.5.0",
            "value": " 570/570 [00:00&lt;00:00, 13.4kB/s]",
            "_view_count": null,
            "_view_module_version": "1.5.0",
            "description_tooltip": null,
            "_model_module": "@jupyter-widgets/controls",
            "layout": "IPY_MODEL_69b84dccd56d4c52a37681c84680f85d"
          }
        },
        "5f9be98a13ce4fdfafacbfd424b9eacf": {
          "model_module": "@jupyter-widgets/controls",
          "model_name": "DescriptionStyleModel",
          "model_module_version": "1.5.0",
          "state": {
            "_view_name": "StyleView",
            "_model_name": "DescriptionStyleModel",
            "description_width": "",
            "_view_module": "@jupyter-widgets/base",
            "_model_module_version": "1.5.0",
            "_view_count": null,
            "_view_module_version": "1.2.0",
            "_model_module": "@jupyter-widgets/controls"
          }
        },
        "8058224429e24b5690a18acfa3dd1340": {
          "model_module": "@jupyter-widgets/base",
          "model_name": "LayoutModel",
          "model_module_version": "1.2.0",
          "state": {
            "_view_name": "LayoutView",
            "grid_template_rows": null,
            "right": null,
            "justify_content": null,
            "_view_module": "@jupyter-widgets/base",
            "overflow": null,
            "_model_module_version": "1.2.0",
            "_view_count": null,
            "flex_flow": null,
            "width": null,
            "min_width": null,
            "border": null,
            "align_items": null,
            "bottom": null,
            "_model_module": "@jupyter-widgets/base",
            "top": null,
            "grid_column": null,
            "overflow_y": null,
            "overflow_x": null,
            "grid_auto_flow": null,
            "grid_area": null,
            "grid_template_columns": null,
            "flex": null,
            "_model_name": "LayoutModel",
            "justify_items": null,
            "grid_row": null,
            "max_height": null,
            "align_content": null,
            "visibility": null,
            "align_self": null,
            "height": null,
            "min_height": null,
            "padding": null,
            "grid_auto_rows": null,
            "grid_gap": null,
            "max_width": null,
            "order": null,
            "_view_module_version": "1.2.0",
            "grid_template_areas": null,
            "object_position": null,
            "object_fit": null,
            "grid_auto_columns": null,
            "margin": null,
            "display": null,
            "left": null
          }
        },
        "d2902871b8b745c894b74ee9a57717f7": {
          "model_module": "@jupyter-widgets/controls",
          "model_name": "ProgressStyleModel",
          "model_module_version": "1.5.0",
          "state": {
            "_view_name": "StyleView",
            "_model_name": "ProgressStyleModel",
            "description_width": "",
            "_view_module": "@jupyter-widgets/base",
            "_model_module_version": "1.5.0",
            "_view_count": null,
            "_view_module_version": "1.2.0",
            "bar_color": null,
            "_model_module": "@jupyter-widgets/controls"
          }
        },
        "38f0872249a94553b88dae594cf286eb": {
          "model_module": "@jupyter-widgets/base",
          "model_name": "LayoutModel",
          "model_module_version": "1.2.0",
          "state": {
            "_view_name": "LayoutView",
            "grid_template_rows": null,
            "right": null,
            "justify_content": null,
            "_view_module": "@jupyter-widgets/base",
            "overflow": null,
            "_model_module_version": "1.2.0",
            "_view_count": null,
            "flex_flow": null,
            "width": null,
            "min_width": null,
            "border": null,
            "align_items": null,
            "bottom": null,
            "_model_module": "@jupyter-widgets/base",
            "top": null,
            "grid_column": null,
            "overflow_y": null,
            "overflow_x": null,
            "grid_auto_flow": null,
            "grid_area": null,
            "grid_template_columns": null,
            "flex": null,
            "_model_name": "LayoutModel",
            "justify_items": null,
            "grid_row": null,
            "max_height": null,
            "align_content": null,
            "visibility": null,
            "align_self": null,
            "height": null,
            "min_height": null,
            "padding": null,
            "grid_auto_rows": null,
            "grid_gap": null,
            "max_width": null,
            "order": null,
            "_view_module_version": "1.2.0",
            "grid_template_areas": null,
            "object_position": null,
            "object_fit": null,
            "grid_auto_columns": null,
            "margin": null,
            "display": null,
            "left": null
          }
        },
        "8c528b8c2b3045babd4a7b31ec0751e9": {
          "model_module": "@jupyter-widgets/controls",
          "model_name": "DescriptionStyleModel",
          "model_module_version": "1.5.0",
          "state": {
            "_view_name": "StyleView",
            "_model_name": "DescriptionStyleModel",
            "description_width": "",
            "_view_module": "@jupyter-widgets/base",
            "_model_module_version": "1.5.0",
            "_view_count": null,
            "_view_module_version": "1.2.0",
            "_model_module": "@jupyter-widgets/controls"
          }
        },
        "69b84dccd56d4c52a37681c84680f85d": {
          "model_module": "@jupyter-widgets/base",
          "model_name": "LayoutModel",
          "model_module_version": "1.2.0",
          "state": {
            "_view_name": "LayoutView",
            "grid_template_rows": null,
            "right": null,
            "justify_content": null,
            "_view_module": "@jupyter-widgets/base",
            "overflow": null,
            "_model_module_version": "1.2.0",
            "_view_count": null,
            "flex_flow": null,
            "width": null,
            "min_width": null,
            "border": null,
            "align_items": null,
            "bottom": null,
            "_model_module": "@jupyter-widgets/base",
            "top": null,
            "grid_column": null,
            "overflow_y": null,
            "overflow_x": null,
            "grid_auto_flow": null,
            "grid_area": null,
            "grid_template_columns": null,
            "flex": null,
            "_model_name": "LayoutModel",
            "justify_items": null,
            "grid_row": null,
            "max_height": null,
            "align_content": null,
            "visibility": null,
            "align_self": null,
            "height": null,
            "min_height": null,
            "padding": null,
            "grid_auto_rows": null,
            "grid_gap": null,
            "max_width": null,
            "order": null,
            "_view_module_version": "1.2.0",
            "grid_template_areas": null,
            "object_position": null,
            "object_fit": null,
            "grid_auto_columns": null,
            "margin": null,
            "display": null,
            "left": null
          }
        },
        "b542e41b95e74c47b68de2efe4b1c6e2": {
          "model_module": "@jupyter-widgets/controls",
          "model_name": "HBoxModel",
          "model_module_version": "1.5.0",
          "state": {
            "_view_name": "HBoxView",
            "_dom_classes": [],
            "_model_name": "HBoxModel",
            "_view_module": "@jupyter-widgets/controls",
            "_model_module_version": "1.5.0",
            "_view_count": null,
            "_view_module_version": "1.5.0",
            "box_style": "",
            "layout": "IPY_MODEL_f0917cb5e4f847ab89a4b0185d75ff09",
            "_model_module": "@jupyter-widgets/controls",
            "children": [
              "IPY_MODEL_a865acedf1324342aeb8298a97c925bb",
              "IPY_MODEL_85e7e74f6cff4006ac3cdfd7113bf190",
              "IPY_MODEL_eb04c8d6653d4e79836cd022d3bdfa06"
            ]
          }
        },
        "f0917cb5e4f847ab89a4b0185d75ff09": {
          "model_module": "@jupyter-widgets/base",
          "model_name": "LayoutModel",
          "model_module_version": "1.2.0",
          "state": {
            "_view_name": "LayoutView",
            "grid_template_rows": null,
            "right": null,
            "justify_content": null,
            "_view_module": "@jupyter-widgets/base",
            "overflow": null,
            "_model_module_version": "1.2.0",
            "_view_count": null,
            "flex_flow": null,
            "width": null,
            "min_width": null,
            "border": null,
            "align_items": null,
            "bottom": null,
            "_model_module": "@jupyter-widgets/base",
            "top": null,
            "grid_column": null,
            "overflow_y": null,
            "overflow_x": null,
            "grid_auto_flow": null,
            "grid_area": null,
            "grid_template_columns": null,
            "flex": null,
            "_model_name": "LayoutModel",
            "justify_items": null,
            "grid_row": null,
            "max_height": null,
            "align_content": null,
            "visibility": null,
            "align_self": null,
            "height": null,
            "min_height": null,
            "padding": null,
            "grid_auto_rows": null,
            "grid_gap": null,
            "max_width": null,
            "order": null,
            "_view_module_version": "1.2.0",
            "grid_template_areas": null,
            "object_position": null,
            "object_fit": null,
            "grid_auto_columns": null,
            "margin": null,
            "display": null,
            "left": null
          }
        },
        "a865acedf1324342aeb8298a97c925bb": {
          "model_module": "@jupyter-widgets/controls",
          "model_name": "HTMLModel",
          "model_module_version": "1.5.0",
          "state": {
            "_view_name": "HTMLView",
            "style": "IPY_MODEL_79504471150744ab9af5bf463edd3d7d",
            "_dom_classes": [],
            "description": "",
            "_model_name": "HTMLModel",
            "placeholder": "​",
            "_view_module": "@jupyter-widgets/controls",
            "_model_module_version": "1.5.0",
            "value": "Downloading: 100%",
            "_view_count": null,
            "_view_module_version": "1.5.0",
            "description_tooltip": null,
            "_model_module": "@jupyter-widgets/controls",
            "layout": "IPY_MODEL_d62316459711478196b97928cb2df2c5"
          }
        },
        "85e7e74f6cff4006ac3cdfd7113bf190": {
          "model_module": "@jupyter-widgets/controls",
          "model_name": "FloatProgressModel",
          "model_module_version": "1.5.0",
          "state": {
            "_view_name": "ProgressView",
            "style": "IPY_MODEL_f9ddd2efce45449387468de12e3860e0",
            "_dom_classes": [],
            "description": "",
            "_model_name": "FloatProgressModel",
            "bar_style": "success",
            "max": 231508,
            "_view_module": "@jupyter-widgets/controls",
            "_model_module_version": "1.5.0",
            "value": 231508,
            "_view_count": null,
            "_view_module_version": "1.5.0",
            "orientation": "horizontal",
            "min": 0,
            "description_tooltip": null,
            "_model_module": "@jupyter-widgets/controls",
            "layout": "IPY_MODEL_9a8c4d16343f40f6aa5f594752c5e2c1"
          }
        },
        "eb04c8d6653d4e79836cd022d3bdfa06": {
          "model_module": "@jupyter-widgets/controls",
          "model_name": "HTMLModel",
          "model_module_version": "1.5.0",
          "state": {
            "_view_name": "HTMLView",
            "style": "IPY_MODEL_6f351231add8400692da695869c168a7",
            "_dom_classes": [],
            "description": "",
            "_model_name": "HTMLModel",
            "placeholder": "​",
            "_view_module": "@jupyter-widgets/controls",
            "_model_module_version": "1.5.0",
            "value": " 232k/232k [00:00&lt;00:00, 1.35MB/s]",
            "_view_count": null,
            "_view_module_version": "1.5.0",
            "description_tooltip": null,
            "_model_module": "@jupyter-widgets/controls",
            "layout": "IPY_MODEL_375fa2f1bba94818abbefbe1039488e3"
          }
        },
        "79504471150744ab9af5bf463edd3d7d": {
          "model_module": "@jupyter-widgets/controls",
          "model_name": "DescriptionStyleModel",
          "model_module_version": "1.5.0",
          "state": {
            "_view_name": "StyleView",
            "_model_name": "DescriptionStyleModel",
            "description_width": "",
            "_view_module": "@jupyter-widgets/base",
            "_model_module_version": "1.5.0",
            "_view_count": null,
            "_view_module_version": "1.2.0",
            "_model_module": "@jupyter-widgets/controls"
          }
        },
        "d62316459711478196b97928cb2df2c5": {
          "model_module": "@jupyter-widgets/base",
          "model_name": "LayoutModel",
          "model_module_version": "1.2.0",
          "state": {
            "_view_name": "LayoutView",
            "grid_template_rows": null,
            "right": null,
            "justify_content": null,
            "_view_module": "@jupyter-widgets/base",
            "overflow": null,
            "_model_module_version": "1.2.0",
            "_view_count": null,
            "flex_flow": null,
            "width": null,
            "min_width": null,
            "border": null,
            "align_items": null,
            "bottom": null,
            "_model_module": "@jupyter-widgets/base",
            "top": null,
            "grid_column": null,
            "overflow_y": null,
            "overflow_x": null,
            "grid_auto_flow": null,
            "grid_area": null,
            "grid_template_columns": null,
            "flex": null,
            "_model_name": "LayoutModel",
            "justify_items": null,
            "grid_row": null,
            "max_height": null,
            "align_content": null,
            "visibility": null,
            "align_self": null,
            "height": null,
            "min_height": null,
            "padding": null,
            "grid_auto_rows": null,
            "grid_gap": null,
            "max_width": null,
            "order": null,
            "_view_module_version": "1.2.0",
            "grid_template_areas": null,
            "object_position": null,
            "object_fit": null,
            "grid_auto_columns": null,
            "margin": null,
            "display": null,
            "left": null
          }
        },
        "f9ddd2efce45449387468de12e3860e0": {
          "model_module": "@jupyter-widgets/controls",
          "model_name": "ProgressStyleModel",
          "model_module_version": "1.5.0",
          "state": {
            "_view_name": "StyleView",
            "_model_name": "ProgressStyleModel",
            "description_width": "",
            "_view_module": "@jupyter-widgets/base",
            "_model_module_version": "1.5.0",
            "_view_count": null,
            "_view_module_version": "1.2.0",
            "bar_color": null,
            "_model_module": "@jupyter-widgets/controls"
          }
        },
        "9a8c4d16343f40f6aa5f594752c5e2c1": {
          "model_module": "@jupyter-widgets/base",
          "model_name": "LayoutModel",
          "model_module_version": "1.2.0",
          "state": {
            "_view_name": "LayoutView",
            "grid_template_rows": null,
            "right": null,
            "justify_content": null,
            "_view_module": "@jupyter-widgets/base",
            "overflow": null,
            "_model_module_version": "1.2.0",
            "_view_count": null,
            "flex_flow": null,
            "width": null,
            "min_width": null,
            "border": null,
            "align_items": null,
            "bottom": null,
            "_model_module": "@jupyter-widgets/base",
            "top": null,
            "grid_column": null,
            "overflow_y": null,
            "overflow_x": null,
            "grid_auto_flow": null,
            "grid_area": null,
            "grid_template_columns": null,
            "flex": null,
            "_model_name": "LayoutModel",
            "justify_items": null,
            "grid_row": null,
            "max_height": null,
            "align_content": null,
            "visibility": null,
            "align_self": null,
            "height": null,
            "min_height": null,
            "padding": null,
            "grid_auto_rows": null,
            "grid_gap": null,
            "max_width": null,
            "order": null,
            "_view_module_version": "1.2.0",
            "grid_template_areas": null,
            "object_position": null,
            "object_fit": null,
            "grid_auto_columns": null,
            "margin": null,
            "display": null,
            "left": null
          }
        },
        "6f351231add8400692da695869c168a7": {
          "model_module": "@jupyter-widgets/controls",
          "model_name": "DescriptionStyleModel",
          "model_module_version": "1.5.0",
          "state": {
            "_view_name": "StyleView",
            "_model_name": "DescriptionStyleModel",
            "description_width": "",
            "_view_module": "@jupyter-widgets/base",
            "_model_module_version": "1.5.0",
            "_view_count": null,
            "_view_module_version": "1.2.0",
            "_model_module": "@jupyter-widgets/controls"
          }
        },
        "375fa2f1bba94818abbefbe1039488e3": {
          "model_module": "@jupyter-widgets/base",
          "model_name": "LayoutModel",
          "model_module_version": "1.2.0",
          "state": {
            "_view_name": "LayoutView",
            "grid_template_rows": null,
            "right": null,
            "justify_content": null,
            "_view_module": "@jupyter-widgets/base",
            "overflow": null,
            "_model_module_version": "1.2.0",
            "_view_count": null,
            "flex_flow": null,
            "width": null,
            "min_width": null,
            "border": null,
            "align_items": null,
            "bottom": null,
            "_model_module": "@jupyter-widgets/base",
            "top": null,
            "grid_column": null,
            "overflow_y": null,
            "overflow_x": null,
            "grid_auto_flow": null,
            "grid_area": null,
            "grid_template_columns": null,
            "flex": null,
            "_model_name": "LayoutModel",
            "justify_items": null,
            "grid_row": null,
            "max_height": null,
            "align_content": null,
            "visibility": null,
            "align_self": null,
            "height": null,
            "min_height": null,
            "padding": null,
            "grid_auto_rows": null,
            "grid_gap": null,
            "max_width": null,
            "order": null,
            "_view_module_version": "1.2.0",
            "grid_template_areas": null,
            "object_position": null,
            "object_fit": null,
            "grid_auto_columns": null,
            "margin": null,
            "display": null,
            "left": null
          }
        },
        "e066ce8f72e44c5996ca72b86d046d3f": {
          "model_module": "@jupyter-widgets/controls",
          "model_name": "HBoxModel",
          "model_module_version": "1.5.0",
          "state": {
            "_view_name": "HBoxView",
            "_dom_classes": [],
            "_model_name": "HBoxModel",
            "_view_module": "@jupyter-widgets/controls",
            "_model_module_version": "1.5.0",
            "_view_count": null,
            "_view_module_version": "1.5.0",
            "box_style": "",
            "layout": "IPY_MODEL_88687f5ee37b46eba83b05eddcae6f4e",
            "_model_module": "@jupyter-widgets/controls",
            "children": [
              "IPY_MODEL_3aeb7237ecf941c7a9cbb0a14ca30e92",
              "IPY_MODEL_a188387d2a254af9a0b9fe0c6374ad66",
              "IPY_MODEL_108f477d80124d77a8e8a7ca10f5979d"
            ]
          }
        },
        "88687f5ee37b46eba83b05eddcae6f4e": {
          "model_module": "@jupyter-widgets/base",
          "model_name": "LayoutModel",
          "model_module_version": "1.2.0",
          "state": {
            "_view_name": "LayoutView",
            "grid_template_rows": null,
            "right": null,
            "justify_content": null,
            "_view_module": "@jupyter-widgets/base",
            "overflow": null,
            "_model_module_version": "1.2.0",
            "_view_count": null,
            "flex_flow": null,
            "width": null,
            "min_width": null,
            "border": null,
            "align_items": null,
            "bottom": null,
            "_model_module": "@jupyter-widgets/base",
            "top": null,
            "grid_column": null,
            "overflow_y": null,
            "overflow_x": null,
            "grid_auto_flow": null,
            "grid_area": null,
            "grid_template_columns": null,
            "flex": null,
            "_model_name": "LayoutModel",
            "justify_items": null,
            "grid_row": null,
            "max_height": null,
            "align_content": null,
            "visibility": null,
            "align_self": null,
            "height": null,
            "min_height": null,
            "padding": null,
            "grid_auto_rows": null,
            "grid_gap": null,
            "max_width": null,
            "order": null,
            "_view_module_version": "1.2.0",
            "grid_template_areas": null,
            "object_position": null,
            "object_fit": null,
            "grid_auto_columns": null,
            "margin": null,
            "display": null,
            "left": null
          }
        },
        "3aeb7237ecf941c7a9cbb0a14ca30e92": {
          "model_module": "@jupyter-widgets/controls",
          "model_name": "HTMLModel",
          "model_module_version": "1.5.0",
          "state": {
            "_view_name": "HTMLView",
            "style": "IPY_MODEL_32af4186e82041f2bb3d9b368dffe4a6",
            "_dom_classes": [],
            "description": "",
            "_model_name": "HTMLModel",
            "placeholder": "​",
            "_view_module": "@jupyter-widgets/controls",
            "_model_module_version": "1.5.0",
            "value": "Downloading: 100%",
            "_view_count": null,
            "_view_module_version": "1.5.0",
            "description_tooltip": null,
            "_model_module": "@jupyter-widgets/controls",
            "layout": "IPY_MODEL_eb489728230e4a439bc5b2e00a3128f4"
          }
        },
        "a188387d2a254af9a0b9fe0c6374ad66": {
          "model_module": "@jupyter-widgets/controls",
          "model_name": "FloatProgressModel",
          "model_module_version": "1.5.0",
          "state": {
            "_view_name": "ProgressView",
            "style": "IPY_MODEL_d2f6c940b2ce45d1a497bff64d9eac13",
            "_dom_classes": [],
            "description": "",
            "_model_name": "FloatProgressModel",
            "bar_style": "success",
            "max": 466062,
            "_view_module": "@jupyter-widgets/controls",
            "_model_module_version": "1.5.0",
            "value": 466062,
            "_view_count": null,
            "_view_module_version": "1.5.0",
            "orientation": "horizontal",
            "min": 0,
            "description_tooltip": null,
            "_model_module": "@jupyter-widgets/controls",
            "layout": "IPY_MODEL_85f2d9c95fd046f8906600e415716c3a"
          }
        },
        "108f477d80124d77a8e8a7ca10f5979d": {
          "model_module": "@jupyter-widgets/controls",
          "model_name": "HTMLModel",
          "model_module_version": "1.5.0",
          "state": {
            "_view_name": "HTMLView",
            "style": "IPY_MODEL_3ad123723aac40e783bab8e72ca707ea",
            "_dom_classes": [],
            "description": "",
            "_model_name": "HTMLModel",
            "placeholder": "​",
            "_view_module": "@jupyter-widgets/controls",
            "_model_module_version": "1.5.0",
            "value": " 466k/466k [00:00&lt;00:00, 1.14MB/s]",
            "_view_count": null,
            "_view_module_version": "1.5.0",
            "description_tooltip": null,
            "_model_module": "@jupyter-widgets/controls",
            "layout": "IPY_MODEL_306ad9203b1447ea9a1a34eea9c4d304"
          }
        },
        "32af4186e82041f2bb3d9b368dffe4a6": {
          "model_module": "@jupyter-widgets/controls",
          "model_name": "DescriptionStyleModel",
          "model_module_version": "1.5.0",
          "state": {
            "_view_name": "StyleView",
            "_model_name": "DescriptionStyleModel",
            "description_width": "",
            "_view_module": "@jupyter-widgets/base",
            "_model_module_version": "1.5.0",
            "_view_count": null,
            "_view_module_version": "1.2.0",
            "_model_module": "@jupyter-widgets/controls"
          }
        },
        "eb489728230e4a439bc5b2e00a3128f4": {
          "model_module": "@jupyter-widgets/base",
          "model_name": "LayoutModel",
          "model_module_version": "1.2.0",
          "state": {
            "_view_name": "LayoutView",
            "grid_template_rows": null,
            "right": null,
            "justify_content": null,
            "_view_module": "@jupyter-widgets/base",
            "overflow": null,
            "_model_module_version": "1.2.0",
            "_view_count": null,
            "flex_flow": null,
            "width": null,
            "min_width": null,
            "border": null,
            "align_items": null,
            "bottom": null,
            "_model_module": "@jupyter-widgets/base",
            "top": null,
            "grid_column": null,
            "overflow_y": null,
            "overflow_x": null,
            "grid_auto_flow": null,
            "grid_area": null,
            "grid_template_columns": null,
            "flex": null,
            "_model_name": "LayoutModel",
            "justify_items": null,
            "grid_row": null,
            "max_height": null,
            "align_content": null,
            "visibility": null,
            "align_self": null,
            "height": null,
            "min_height": null,
            "padding": null,
            "grid_auto_rows": null,
            "grid_gap": null,
            "max_width": null,
            "order": null,
            "_view_module_version": "1.2.0",
            "grid_template_areas": null,
            "object_position": null,
            "object_fit": null,
            "grid_auto_columns": null,
            "margin": null,
            "display": null,
            "left": null
          }
        },
        "d2f6c940b2ce45d1a497bff64d9eac13": {
          "model_module": "@jupyter-widgets/controls",
          "model_name": "ProgressStyleModel",
          "model_module_version": "1.5.0",
          "state": {
            "_view_name": "StyleView",
            "_model_name": "ProgressStyleModel",
            "description_width": "",
            "_view_module": "@jupyter-widgets/base",
            "_model_module_version": "1.5.0",
            "_view_count": null,
            "_view_module_version": "1.2.0",
            "bar_color": null,
            "_model_module": "@jupyter-widgets/controls"
          }
        },
        "85f2d9c95fd046f8906600e415716c3a": {
          "model_module": "@jupyter-widgets/base",
          "model_name": "LayoutModel",
          "model_module_version": "1.2.0",
          "state": {
            "_view_name": "LayoutView",
            "grid_template_rows": null,
            "right": null,
            "justify_content": null,
            "_view_module": "@jupyter-widgets/base",
            "overflow": null,
            "_model_module_version": "1.2.0",
            "_view_count": null,
            "flex_flow": null,
            "width": null,
            "min_width": null,
            "border": null,
            "align_items": null,
            "bottom": null,
            "_model_module": "@jupyter-widgets/base",
            "top": null,
            "grid_column": null,
            "overflow_y": null,
            "overflow_x": null,
            "grid_auto_flow": null,
            "grid_area": null,
            "grid_template_columns": null,
            "flex": null,
            "_model_name": "LayoutModel",
            "justify_items": null,
            "grid_row": null,
            "max_height": null,
            "align_content": null,
            "visibility": null,
            "align_self": null,
            "height": null,
            "min_height": null,
            "padding": null,
            "grid_auto_rows": null,
            "grid_gap": null,
            "max_width": null,
            "order": null,
            "_view_module_version": "1.2.0",
            "grid_template_areas": null,
            "object_position": null,
            "object_fit": null,
            "grid_auto_columns": null,
            "margin": null,
            "display": null,
            "left": null
          }
        },
        "3ad123723aac40e783bab8e72ca707ea": {
          "model_module": "@jupyter-widgets/controls",
          "model_name": "DescriptionStyleModel",
          "model_module_version": "1.5.0",
          "state": {
            "_view_name": "StyleView",
            "_model_name": "DescriptionStyleModel",
            "description_width": "",
            "_view_module": "@jupyter-widgets/base",
            "_model_module_version": "1.5.0",
            "_view_count": null,
            "_view_module_version": "1.2.0",
            "_model_module": "@jupyter-widgets/controls"
          }
        },
        "306ad9203b1447ea9a1a34eea9c4d304": {
          "model_module": "@jupyter-widgets/base",
          "model_name": "LayoutModel",
          "model_module_version": "1.2.0",
          "state": {
            "_view_name": "LayoutView",
            "grid_template_rows": null,
            "right": null,
            "justify_content": null,
            "_view_module": "@jupyter-widgets/base",
            "overflow": null,
            "_model_module_version": "1.2.0",
            "_view_count": null,
            "flex_flow": null,
            "width": null,
            "min_width": null,
            "border": null,
            "align_items": null,
            "bottom": null,
            "_model_module": "@jupyter-widgets/base",
            "top": null,
            "grid_column": null,
            "overflow_y": null,
            "overflow_x": null,
            "grid_auto_flow": null,
            "grid_area": null,
            "grid_template_columns": null,
            "flex": null,
            "_model_name": "LayoutModel",
            "justify_items": null,
            "grid_row": null,
            "max_height": null,
            "align_content": null,
            "visibility": null,
            "align_self": null,
            "height": null,
            "min_height": null,
            "padding": null,
            "grid_auto_rows": null,
            "grid_gap": null,
            "max_width": null,
            "order": null,
            "_view_module_version": "1.2.0",
            "grid_template_areas": null,
            "object_position": null,
            "object_fit": null,
            "grid_auto_columns": null,
            "margin": null,
            "display": null,
            "left": null
          }
        },
        "c4865554c27849d18aa0b91f18af660b": {
          "model_module": "@jupyter-widgets/controls",
          "model_name": "HBoxModel",
          "model_module_version": "1.5.0",
          "state": {
            "_view_name": "HBoxView",
            "_dom_classes": [],
            "_model_name": "HBoxModel",
            "_view_module": "@jupyter-widgets/controls",
            "_model_module_version": "1.5.0",
            "_view_count": null,
            "_view_module_version": "1.5.0",
            "box_style": "",
            "layout": "IPY_MODEL_23f4ac3c1d0c414795b88d68a0b5e2dd",
            "_model_module": "@jupyter-widgets/controls",
            "children": [
              "IPY_MODEL_0c9362b2044346048302bf2890245531",
              "IPY_MODEL_031e449bfa6d4ba0a08265d5fb7ba1d6",
              "IPY_MODEL_6081a319db1247dc91bb9d00250a905d"
            ]
          }
        },
        "23f4ac3c1d0c414795b88d68a0b5e2dd": {
          "model_module": "@jupyter-widgets/base",
          "model_name": "LayoutModel",
          "model_module_version": "1.2.0",
          "state": {
            "_view_name": "LayoutView",
            "grid_template_rows": null,
            "right": null,
            "justify_content": null,
            "_view_module": "@jupyter-widgets/base",
            "overflow": null,
            "_model_module_version": "1.2.0",
            "_view_count": null,
            "flex_flow": null,
            "width": null,
            "min_width": null,
            "border": null,
            "align_items": null,
            "bottom": null,
            "_model_module": "@jupyter-widgets/base",
            "top": null,
            "grid_column": null,
            "overflow_y": null,
            "overflow_x": null,
            "grid_auto_flow": null,
            "grid_area": null,
            "grid_template_columns": null,
            "flex": null,
            "_model_name": "LayoutModel",
            "justify_items": null,
            "grid_row": null,
            "max_height": null,
            "align_content": null,
            "visibility": null,
            "align_self": null,
            "height": null,
            "min_height": null,
            "padding": null,
            "grid_auto_rows": null,
            "grid_gap": null,
            "max_width": null,
            "order": null,
            "_view_module_version": "1.2.0",
            "grid_template_areas": null,
            "object_position": null,
            "object_fit": null,
            "grid_auto_columns": null,
            "margin": null,
            "display": null,
            "left": null
          }
        },
        "0c9362b2044346048302bf2890245531": {
          "model_module": "@jupyter-widgets/controls",
          "model_name": "HTMLModel",
          "model_module_version": "1.5.0",
          "state": {
            "_view_name": "HTMLView",
            "style": "IPY_MODEL_3c622bbb6fc840ac92b6b8f36a9ded79",
            "_dom_classes": [],
            "description": "",
            "_model_name": "HTMLModel",
            "placeholder": "​",
            "_view_module": "@jupyter-widgets/controls",
            "_model_module_version": "1.5.0",
            "value": "Downloading: 100%",
            "_view_count": null,
            "_view_module_version": "1.5.0",
            "description_tooltip": null,
            "_model_module": "@jupyter-widgets/controls",
            "layout": "IPY_MODEL_4a4e2f13d9d340a48e3666168e25ce60"
          }
        },
        "031e449bfa6d4ba0a08265d5fb7ba1d6": {
          "model_module": "@jupyter-widgets/controls",
          "model_name": "FloatProgressModel",
          "model_module_version": "1.5.0",
          "state": {
            "_view_name": "ProgressView",
            "style": "IPY_MODEL_50d11960756f4a0b811509328648a065",
            "_dom_classes": [],
            "description": "",
            "_model_name": "FloatProgressModel",
            "bar_style": "success",
            "max": 536063208,
            "_view_module": "@jupyter-widgets/controls",
            "_model_module_version": "1.5.0",
            "value": 536063208,
            "_view_count": null,
            "_view_module_version": "1.5.0",
            "orientation": "horizontal",
            "min": 0,
            "description_tooltip": null,
            "_model_module": "@jupyter-widgets/controls",
            "layout": "IPY_MODEL_9c012a7ee3e24f57943a779712b69472"
          }
        },
        "6081a319db1247dc91bb9d00250a905d": {
          "model_module": "@jupyter-widgets/controls",
          "model_name": "HTMLModel",
          "model_module_version": "1.5.0",
          "state": {
            "_view_name": "HTMLView",
            "style": "IPY_MODEL_df0dc23285d142f683d37803e0e4c79c",
            "_dom_classes": [],
            "description": "",
            "_model_name": "HTMLModel",
            "placeholder": "​",
            "_view_module": "@jupyter-widgets/controls",
            "_model_module_version": "1.5.0",
            "value": " 536M/536M [00:22&lt;00:00, 30.0MB/s]",
            "_view_count": null,
            "_view_module_version": "1.5.0",
            "description_tooltip": null,
            "_model_module": "@jupyter-widgets/controls",
            "layout": "IPY_MODEL_6776d5fae3d34c6896eee5b20be697d2"
          }
        },
        "3c622bbb6fc840ac92b6b8f36a9ded79": {
          "model_module": "@jupyter-widgets/controls",
          "model_name": "DescriptionStyleModel",
          "model_module_version": "1.5.0",
          "state": {
            "_view_name": "StyleView",
            "_model_name": "DescriptionStyleModel",
            "description_width": "",
            "_view_module": "@jupyter-widgets/base",
            "_model_module_version": "1.5.0",
            "_view_count": null,
            "_view_module_version": "1.2.0",
            "_model_module": "@jupyter-widgets/controls"
          }
        },
        "4a4e2f13d9d340a48e3666168e25ce60": {
          "model_module": "@jupyter-widgets/base",
          "model_name": "LayoutModel",
          "model_module_version": "1.2.0",
          "state": {
            "_view_name": "LayoutView",
            "grid_template_rows": null,
            "right": null,
            "justify_content": null,
            "_view_module": "@jupyter-widgets/base",
            "overflow": null,
            "_model_module_version": "1.2.0",
            "_view_count": null,
            "flex_flow": null,
            "width": null,
            "min_width": null,
            "border": null,
            "align_items": null,
            "bottom": null,
            "_model_module": "@jupyter-widgets/base",
            "top": null,
            "grid_column": null,
            "overflow_y": null,
            "overflow_x": null,
            "grid_auto_flow": null,
            "grid_area": null,
            "grid_template_columns": null,
            "flex": null,
            "_model_name": "LayoutModel",
            "justify_items": null,
            "grid_row": null,
            "max_height": null,
            "align_content": null,
            "visibility": null,
            "align_self": null,
            "height": null,
            "min_height": null,
            "padding": null,
            "grid_auto_rows": null,
            "grid_gap": null,
            "max_width": null,
            "order": null,
            "_view_module_version": "1.2.0",
            "grid_template_areas": null,
            "object_position": null,
            "object_fit": null,
            "grid_auto_columns": null,
            "margin": null,
            "display": null,
            "left": null
          }
        },
        "50d11960756f4a0b811509328648a065": {
          "model_module": "@jupyter-widgets/controls",
          "model_name": "ProgressStyleModel",
          "model_module_version": "1.5.0",
          "state": {
            "_view_name": "StyleView",
            "_model_name": "ProgressStyleModel",
            "description_width": "",
            "_view_module": "@jupyter-widgets/base",
            "_model_module_version": "1.5.0",
            "_view_count": null,
            "_view_module_version": "1.2.0",
            "bar_color": null,
            "_model_module": "@jupyter-widgets/controls"
          }
        },
        "9c012a7ee3e24f57943a779712b69472": {
          "model_module": "@jupyter-widgets/base",
          "model_name": "LayoutModel",
          "model_module_version": "1.2.0",
          "state": {
            "_view_name": "LayoutView",
            "grid_template_rows": null,
            "right": null,
            "justify_content": null,
            "_view_module": "@jupyter-widgets/base",
            "overflow": null,
            "_model_module_version": "1.2.0",
            "_view_count": null,
            "flex_flow": null,
            "width": null,
            "min_width": null,
            "border": null,
            "align_items": null,
            "bottom": null,
            "_model_module": "@jupyter-widgets/base",
            "top": null,
            "grid_column": null,
            "overflow_y": null,
            "overflow_x": null,
            "grid_auto_flow": null,
            "grid_area": null,
            "grid_template_columns": null,
            "flex": null,
            "_model_name": "LayoutModel",
            "justify_items": null,
            "grid_row": null,
            "max_height": null,
            "align_content": null,
            "visibility": null,
            "align_self": null,
            "height": null,
            "min_height": null,
            "padding": null,
            "grid_auto_rows": null,
            "grid_gap": null,
            "max_width": null,
            "order": null,
            "_view_module_version": "1.2.0",
            "grid_template_areas": null,
            "object_position": null,
            "object_fit": null,
            "grid_auto_columns": null,
            "margin": null,
            "display": null,
            "left": null
          }
        },
        "df0dc23285d142f683d37803e0e4c79c": {
          "model_module": "@jupyter-widgets/controls",
          "model_name": "DescriptionStyleModel",
          "model_module_version": "1.5.0",
          "state": {
            "_view_name": "StyleView",
            "_model_name": "DescriptionStyleModel",
            "description_width": "",
            "_view_module": "@jupyter-widgets/base",
            "_model_module_version": "1.5.0",
            "_view_count": null,
            "_view_module_version": "1.2.0",
            "_model_module": "@jupyter-widgets/controls"
          }
        },
        "6776d5fae3d34c6896eee5b20be697d2": {
          "model_module": "@jupyter-widgets/base",
          "model_name": "LayoutModel",
          "model_module_version": "1.2.0",
          "state": {
            "_view_name": "LayoutView",
            "grid_template_rows": null,
            "right": null,
            "justify_content": null,
            "_view_module": "@jupyter-widgets/base",
            "overflow": null,
            "_model_module_version": "1.2.0",
            "_view_count": null,
            "flex_flow": null,
            "width": null,
            "min_width": null,
            "border": null,
            "align_items": null,
            "bottom": null,
            "_model_module": "@jupyter-widgets/base",
            "top": null,
            "grid_column": null,
            "overflow_y": null,
            "overflow_x": null,
            "grid_auto_flow": null,
            "grid_area": null,
            "grid_template_columns": null,
            "flex": null,
            "_model_name": "LayoutModel",
            "justify_items": null,
            "grid_row": null,
            "max_height": null,
            "align_content": null,
            "visibility": null,
            "align_self": null,
            "height": null,
            "min_height": null,
            "padding": null,
            "grid_auto_rows": null,
            "grid_gap": null,
            "max_width": null,
            "order": null,
            "_view_module_version": "1.2.0",
            "grid_template_areas": null,
            "object_position": null,
            "object_fit": null,
            "grid_auto_columns": null,
            "margin": null,
            "display": null,
            "left": null
          }
        }
      }
    }
  },
  "cells": [
    {
      "cell_type": "markdown",
      "metadata": {
        "id": "view-in-github",
        "colab_type": "text"
      },
      "source": [
        "<a href=\"https://colab.research.google.com/github/ykato27/BERT-example-notebook/blob/main/Titanic_BERT.ipynb\" target=\"_parent\"><img src=\"https://colab.research.google.com/assets/colab-badge.svg\" alt=\"Open In Colab\"/></a>"
      ]
    },
    {
      "cell_type": "markdown",
      "metadata": {
        "id": "p-fn1ykvJ5tz"
      },
      "source": [
        "## Nameだけの予測\n",
        "KaggleタイタニックのNameだけで予測"
      ]
    },
    {
      "cell_type": "markdown",
      "metadata": {
        "id": "t0U4tlygJ0bP"
      },
      "source": [
        "## 1. データ読込み"
      ]
    },
    {
      "cell_type": "code",
      "metadata": {
        "colab": {
          "base_uri": "https://localhost:8080/"
        },
        "id": "Jvy73axzKfQr",
        "outputId": "28c745ab-9776-48b5-a955-a51dba007a15"
      },
      "source": [
        "from google.colab import drive, files\n",
        "drive.mount('/content/drive')  # drive をマウント"
      ],
      "execution_count": 1,
      "outputs": [
        {
          "output_type": "stream",
          "name": "stdout",
          "text": [
            "Mounted at /content/drive\n"
          ]
        }
      ]
    },
    {
      "cell_type": "code",
      "metadata": {
        "id": "P5P80rA5Jamw"
      },
      "source": [
        "import os\n",
        "\n",
        "# 保存ディレクトリ\n",
        "BASE_DIR = \"/content/drive/MyDrive/Titanic\"\n",
        "\n",
        "DATA_PATH = os.path.join(BASE_DIR, \"data\")    # 対象データの保存ディレクトリ\n",
        "MODEL_PATH = os.path.join(BASE_DIR, \"model\")  # モデルを保存するディレクトリ\n",
        "\n",
        "# ディレクトリがなければ作成\n",
        "os.makedirs(MODEL_PATH, exist_ok=True)"
      ],
      "execution_count": 2,
      "outputs": []
    },
    {
      "cell_type": "code",
      "metadata": {
        "colab": {
          "base_uri": "https://localhost:8080/"
        },
        "id": "AlD7gBTBKDSD",
        "outputId": "0a48886d-883d-4e4f-9788-64961deebc90"
      },
      "source": [
        "import numpy as np\n",
        "import pandas as pd\n",
        "from matplotlib import pyplot as plt\n",
        "\n",
        "import time\n",
        "from tqdm import tqdm\n",
        "from tqdm.notebook import tqdm  # notebookの場合\n",
        "from pprint import pprint\n",
        "\n",
        "# データ読み込み\n",
        "df_train = pd.read_csv(os.path.join(DATA_PATH, \"train.csv\"))\n",
        "df_test = pd.read_csv(os.path.join(DATA_PATH, \"test.csv\"))\n",
        "target_column = \"Survived\"\n",
        "\n",
        "# データをマージ\n",
        "df_test[target_column] = np.nan\n",
        "df = pd.concat([df_train, df_test], ignore_index=True, sort=False)\n",
        "\n",
        "print(df_train.shape)\n",
        "print(df_test.shape)\n",
        "print(df.shape)\n",
        "print(df.columns)"
      ],
      "execution_count": 3,
      "outputs": [
        {
          "output_type": "stream",
          "name": "stdout",
          "text": [
            "(891, 12)\n",
            "(418, 12)\n",
            "(1309, 12)\n",
            "Index(['PassengerId', 'Survived', 'Pclass', 'Name', 'Sex', 'Age', 'SibSp',\n",
            "       'Parch', 'Ticket', 'Fare', 'Cabin', 'Embarked'],\n",
            "      dtype='object')\n"
          ]
        }
      ]
    },
    {
      "cell_type": "markdown",
      "metadata": {
        "id": "02zbmx5uKnDB"
      },
      "source": [
        "## 2. 前処理"
      ]
    },
    {
      "cell_type": "code",
      "metadata": {
        "id": "XiOyPHZqKlLT"
      },
      "source": [
        "def str_normalize(ds):\n",
        "    # アルファベットと数字のみにする\n",
        "    ds = ds.str.replace(\"[^a-zA-Z0-9]+\", \" \", regex=True)\n",
        "    return ds\n",
        "\n",
        "df[\"Name_normalize\"] = str_normalize(df[\"Name\"])"
      ],
      "execution_count": 4,
      "outputs": []
    },
    {
      "cell_type": "markdown",
      "metadata": {
        "id": "SvEzOq6eKxn4"
      },
      "source": [
        "## 3. BERT"
      ]
    },
    {
      "cell_type": "markdown",
      "metadata": {
        "id": "UhfbLyyAK1Lq"
      },
      "source": [
        "#### 3-1.import関係"
      ]
    },
    {
      "cell_type": "code",
      "metadata": {
        "colab": {
          "base_uri": "https://localhost:8080/"
        },
        "id": "PrMgEk9HKpFG",
        "outputId": "0e33843d-6669-40fb-8a76-2052c0d599e0"
      },
      "source": [
        "!pip install -q transformers\n",
        "!pip install -q silence_tensorflow\n",
        "!pip install -q janome"
      ],
      "execution_count": 5,
      "outputs": [
        {
          "output_type": "stream",
          "name": "stdout",
          "text": [
            "\u001b[K     |████████████████████████████████| 2.8 MB 5.3 MB/s \n",
            "\u001b[K     |████████████████████████████████| 895 kB 52.0 MB/s \n",
            "\u001b[K     |████████████████████████████████| 636 kB 66.0 MB/s \n",
            "\u001b[K     |████████████████████████████████| 3.3 MB 17.5 MB/s \n",
            "\u001b[K     |████████████████████████████████| 50 kB 5.5 MB/s \n",
            "\u001b[?25h  Building wheel for silence-tensorflow (setup.py) ... \u001b[?25l\u001b[?25hdone\n",
            "\u001b[K     |████████████████████████████████| 19.7 MB 1.1 MB/s \n",
            "\u001b[?25h"
          ]
        }
      ]
    },
    {
      "cell_type": "code",
      "metadata": {
        "id": "oWwX9BfVK3Sn"
      },
      "source": [
        "# tensorflow のログが多いので silence_tensorflow を入れています\n",
        "from silence_tensorflow import silence_tensorflow\n",
        "silence_tensorflow()\n",
        "\n",
        "# tensorflow\n",
        "import tensorflow as tf\n",
        "import tensorflow.keras.layers as kl\n",
        "\n",
        "# transformers\n",
        "import transformers\n",
        "\n",
        "# transformerのログをエラー以上のみに\n",
        "from transformers import logging\n",
        "logging.set_verbosity_error()"
      ],
      "execution_count": 6,
      "outputs": []
    },
    {
      "cell_type": "markdown",
      "metadata": {
        "id": "pWm-AGx7K9eh"
      },
      "source": [
        "#### 3-2.学習済みモデルの選択"
      ]
    },
    {
      "cell_type": "code",
      "metadata": {
        "id": "Sn6Nn6Z7K4oc"
      },
      "source": [
        "pretrained_model_name = \"bert-base-uncased\""
      ],
      "execution_count": 7,
      "outputs": []
    },
    {
      "cell_type": "markdown",
      "metadata": {
        "id": "nJCTldgALG9J"
      },
      "source": [
        "何も指定しないとtensorflowのモデルを読み込みます。(ファイルで言うと tf_model.h5)\n",
        "from_py=Trueを有効にするとpytouchのモデルを読み込みます。(ファイルで言うと pytorch_model.bin)\n",
        "どちらのファイルがあるかは学習済みモデルの Files and versions から確認できます。"
      ]
    },
    {
      "cell_type": "code",
      "metadata": {
        "colab": {
          "base_uri": "https://localhost:8080/",
          "height": 619,
          "referenced_widgets": [
            "55b31e73050245b9bd533b920f9b3b72",
            "b1bf81c55a3f4fdca2ca4ec6bf2e5fa6",
            "ed6cd41ae10d4f96b51990b953f891e9",
            "b3a293f1d10a4e07a85a1d00cebb365d",
            "112acdd2bd494a9283b76004d2f7a382",
            "ba920f0cce85409f908be94b99cf7096",
            "82fe8295123546d4b3e92a7a3cb6ba2a",
            "8b4c17ecbf4e4861abaa0e779b946bb0",
            "12f0560e75404407af426363ab5a6288",
            "22484e2a77f44ca0a162a3f6969a8bee",
            "e908f8e04b684263a32875cfc4da5dad",
            "35e8c3de56044d29b1f1e77fb4ffabb9",
            "c5d6ad065f7c48fdb16a700d1dc41452",
            "a090e4c5849444509c3fcf5c30896940",
            "ce31c524eee24ebab03eae086ff2575b",
            "4a0410e979ca4bd5b75056689d8d8499",
            "5f9be98a13ce4fdfafacbfd424b9eacf",
            "8058224429e24b5690a18acfa3dd1340",
            "d2902871b8b745c894b74ee9a57717f7",
            "38f0872249a94553b88dae594cf286eb",
            "8c528b8c2b3045babd4a7b31ec0751e9",
            "69b84dccd56d4c52a37681c84680f85d",
            "b542e41b95e74c47b68de2efe4b1c6e2",
            "f0917cb5e4f847ab89a4b0185d75ff09",
            "a865acedf1324342aeb8298a97c925bb",
            "85e7e74f6cff4006ac3cdfd7113bf190",
            "eb04c8d6653d4e79836cd022d3bdfa06",
            "79504471150744ab9af5bf463edd3d7d",
            "d62316459711478196b97928cb2df2c5",
            "f9ddd2efce45449387468de12e3860e0",
            "9a8c4d16343f40f6aa5f594752c5e2c1",
            "6f351231add8400692da695869c168a7",
            "375fa2f1bba94818abbefbe1039488e3",
            "e066ce8f72e44c5996ca72b86d046d3f",
            "88687f5ee37b46eba83b05eddcae6f4e",
            "3aeb7237ecf941c7a9cbb0a14ca30e92",
            "a188387d2a254af9a0b9fe0c6374ad66",
            "108f477d80124d77a8e8a7ca10f5979d",
            "32af4186e82041f2bb3d9b368dffe4a6",
            "eb489728230e4a439bc5b2e00a3128f4",
            "d2f6c940b2ce45d1a497bff64d9eac13",
            "85f2d9c95fd046f8906600e415716c3a",
            "3ad123723aac40e783bab8e72ca707ea",
            "306ad9203b1447ea9a1a34eea9c4d304",
            "c4865554c27849d18aa0b91f18af660b",
            "23f4ac3c1d0c414795b88d68a0b5e2dd",
            "0c9362b2044346048302bf2890245531",
            "031e449bfa6d4ba0a08265d5fb7ba1d6",
            "6081a319db1247dc91bb9d00250a905d",
            "3c622bbb6fc840ac92b6b8f36a9ded79",
            "4a4e2f13d9d340a48e3666168e25ce60",
            "50d11960756f4a0b811509328648a065",
            "9c012a7ee3e24f57943a779712b69472",
            "df0dc23285d142f683d37803e0e4c79c",
            "6776d5fae3d34c6896eee5b20be697d2"
          ]
        },
        "id": "3arAcPCGK_np",
        "outputId": "8f665fbd-d6bc-41d5-d1fe-56321b8e1691"
      },
      "source": [
        "tokenizer = transformers.AutoTokenizer.from_pretrained(pretrained_model_name)\n",
        "bert_model = transformers.TFAutoModel.from_pretrained(pretrained_model_name)\n",
        "#bert_model = transformers.TFAutoModel.from_pretrained(pretrained_model_name, from_pt=True)  # ※(1)\n",
        "\n",
        "print(bert_model.config)"
      ],
      "execution_count": 8,
      "outputs": [
        {
          "output_type": "display_data",
          "data": {
            "application/vnd.jupyter.widget-view+json": {
              "model_id": "55b31e73050245b9bd533b920f9b3b72",
              "version_minor": 0,
              "version_major": 2
            },
            "text/plain": [
              "Downloading:   0%|          | 0.00/28.0 [00:00<?, ?B/s]"
            ]
          },
          "metadata": {}
        },
        {
          "output_type": "display_data",
          "data": {
            "application/vnd.jupyter.widget-view+json": {
              "model_id": "35e8c3de56044d29b1f1e77fb4ffabb9",
              "version_minor": 0,
              "version_major": 2
            },
            "text/plain": [
              "Downloading:   0%|          | 0.00/570 [00:00<?, ?B/s]"
            ]
          },
          "metadata": {}
        },
        {
          "output_type": "display_data",
          "data": {
            "application/vnd.jupyter.widget-view+json": {
              "model_id": "b542e41b95e74c47b68de2efe4b1c6e2",
              "version_minor": 0,
              "version_major": 2
            },
            "text/plain": [
              "Downloading:   0%|          | 0.00/232k [00:00<?, ?B/s]"
            ]
          },
          "metadata": {}
        },
        {
          "output_type": "display_data",
          "data": {
            "application/vnd.jupyter.widget-view+json": {
              "model_id": "e066ce8f72e44c5996ca72b86d046d3f",
              "version_minor": 0,
              "version_major": 2
            },
            "text/plain": [
              "Downloading:   0%|          | 0.00/466k [00:00<?, ?B/s]"
            ]
          },
          "metadata": {}
        },
        {
          "output_type": "display_data",
          "data": {
            "application/vnd.jupyter.widget-view+json": {
              "model_id": "c4865554c27849d18aa0b91f18af660b",
              "version_minor": 0,
              "version_major": 2
            },
            "text/plain": [
              "Downloading:   0%|          | 0.00/536M [00:00<?, ?B/s]"
            ]
          },
          "metadata": {}
        },
        {
          "output_type": "stream",
          "name": "stdout",
          "text": [
            "BertConfig {\n",
            "  \"_name_or_path\": \"bert-base-uncased\",\n",
            "  \"architectures\": [\n",
            "    \"BertForMaskedLM\"\n",
            "  ],\n",
            "  \"attention_probs_dropout_prob\": 0.1,\n",
            "  \"classifier_dropout\": null,\n",
            "  \"gradient_checkpointing\": false,\n",
            "  \"hidden_act\": \"gelu\",\n",
            "  \"hidden_dropout_prob\": 0.1,\n",
            "  \"hidden_size\": 768,\n",
            "  \"initializer_range\": 0.02,\n",
            "  \"intermediate_size\": 3072,\n",
            "  \"layer_norm_eps\": 1e-12,\n",
            "  \"max_position_embeddings\": 512,\n",
            "  \"model_type\": \"bert\",\n",
            "  \"num_attention_heads\": 12,\n",
            "  \"num_hidden_layers\": 12,\n",
            "  \"pad_token_id\": 0,\n",
            "  \"position_embedding_type\": \"absolute\",\n",
            "  \"transformers_version\": \"4.10.0\",\n",
            "  \"type_vocab_size\": 2,\n",
            "  \"use_cache\": true,\n",
            "  \"vocab_size\": 30522\n",
            "}\n",
            "\n"
          ]
        }
      ]
    },
    {
      "cell_type": "code",
      "metadata": {
        "colab": {
          "base_uri": "https://localhost:8080/"
        },
        "id": "fRYbYPPfLA9-",
        "outputId": "b5b0a330-1a91-4511-f34f-e0854f7e02bc"
      },
      "source": [
        "# 適当に名前の情報を使ってみてみる\n",
        "sample_name = df[\"Name\"][0]\n",
        "print(sample_name)\n",
        "\n",
        "# Tokenizeした結果\n",
        "token_words = tokenizer.tokenize(sample_name)\n",
        "print(token_words)\n",
        "\n",
        "# BERTに入力する形式に変換\n",
        "encode_token = tokenizer(sample_name, padding=\"max_length\", max_length=12, truncation=True)\n",
        "pprint(encode_token)\n",
        "\n",
        "# BERTへの入力形式をデコードした結果\n",
        "print(tokenizer.decode(encode_token[\"input_ids\"]))"
      ],
      "execution_count": 9,
      "outputs": [
        {
          "output_type": "stream",
          "name": "stdout",
          "text": [
            "Braund, Mr. Owen Harris\n",
            "['braun', '##d', ',', 'mr', '.', 'owen', 'harris']\n",
            "{'attention_mask': [1, 1, 1, 1, 1, 1, 1, 1, 1, 0, 0, 0],\n",
            " 'input_ids': [101, 21909, 2094, 1010, 2720, 1012, 7291, 5671, 102, 0, 0, 0],\n",
            " 'token_type_ids': [0, 0, 0, 0, 0, 0, 0, 0, 0, 0, 0, 0]}\n",
            "[CLS] braund, mr. owen harris [SEP] [PAD] [PAD] [PAD]\n"
          ]
        }
      ]
    },
    {
      "cell_type": "markdown",
      "metadata": {
        "id": "5KnM40JbLMyr"
      },
      "source": [
        "#### 3-3.入力単語数の確認"
      ]
    },
    {
      "cell_type": "code",
      "metadata": {
        "colab": {
          "base_uri": "https://localhost:8080/"
        },
        "id": "nl3S9SS5LKgN",
        "outputId": "d8643597-0a21-4e27-f9a4-304400b61f0b"
      },
      "source": [
        "# 最大単語数の確認\n",
        "max_len = []\n",
        "# 1文づつ処理\n",
        "for sent in df[\"Name_normalize\"]:\n",
        "    # Tokenizeで分割\n",
        "    token_words = tokenizer.tokenize(sent)\n",
        "    # 文章数を取得してリストへ格納\n",
        "    max_len.append(len(token_words))\n",
        "# 最大の値を確認\n",
        "print('最大単語数: ', max(max_len))\n",
        "print('上記の最大単語数にSpecial token（[CLS], [SEP]）の+2をした値が最大単語数')\n",
        "\n",
        "# 単語数を設定\n",
        "sequence_max_length = max(max_len) + 2\n",
        "if sequence_max_length > 512:\n",
        "    sequence_max_length = 512"
      ],
      "execution_count": 10,
      "outputs": [
        {
          "output_type": "stream",
          "name": "stdout",
          "text": [
            "最大単語数:  20\n",
            "上記の最大単語数にSpecial token（[CLS], [SEP]）の+2をした値が最大単語数\n"
          ]
        }
      ]
    },
    {
      "cell_type": "markdown",
      "metadata": {
        "id": "d82VQfQuLQeJ"
      },
      "source": [
        "#### 3-4. BERTモデルの作成"
      ]
    },
    {
      "cell_type": "code",
      "metadata": {
        "colab": {
          "base_uri": "https://localhost:8080/"
        },
        "id": "UbNkCIaYLO2J",
        "outputId": "74c51c9e-6c0d-4c62-9223-52c246316d81"
      },
      "source": [
        "def build_model(learning_rate, is_print=False):\n",
        "\n",
        "    # BERTモデルをロード\n",
        "    bert_model = transformers.TFAutoModel.from_pretrained(pretrained_model_name)\n",
        "    #bert_model = transformers.TFAutoModel.from_pretrained(pretrained_model_name, from_pt=True)  # pytorchの場合\n",
        "\n",
        "    # tfへの入力テンソルを作成\n",
        "    # 入力はsequence_max_lengthサイズを3つ(['input_ids', 'token_type_ids', 'attention_mask'])\n",
        "    inputs = [\n",
        "        kl.Input(shape=(sequence_max_length,), dtype=tf.int32, name=name)\n",
        "        for name in tokenizer.model_input_names\n",
        "    ]\n",
        "    if is_print:\n",
        "        pprint(inputs)\n",
        "\n",
        "    # BERTモデルの出力を得る\n",
        "    # 出力は TFBaseModelOutputWithPooling (https://huggingface.co/transformers/main_classes/output.html#tfbasemodeloutput)\n",
        "    # x[0](last_hidden_​​state) : 最後のレイヤーの出力\n",
        "    # x[1](pooler_output)     : 分類トークンの状態\n",
        "    x = bert_model(inputs)\n",
        "\n",
        "    # BERT出力の0番目がクラス分類で使う出力\n",
        "    x1 = x[0][:, 0, :]\n",
        "\n",
        "    # 分類用の出力層を用意\n",
        "    # 出力層の構成はTFBertForSequenceClassificationを参考\n",
        "    x1 = kl.Dropout(0.1)(x1)\n",
        "    x1 = kl.Dense(1, activation='sigmoid', kernel_initializer=transformers.modeling_tf_utils.get_initializer(0.02))(x1)\n",
        "    model_train = tf.keras.Model(inputs=inputs, outputs=x1)\n",
        "\n",
        "    # オリジナルの出力値を特徴量としたいので予測専用のモデルも別途作っておく\n",
        "    model_pred = tf.keras.Model(inputs=inputs, outputs=[x1, x[0][:, 0, :]])\n",
        "\n",
        "    # optimizerは AdamW を使用\n",
        "    optimizer = transformers.AdamWeightDecay(learning_rate=learning_rate)\n",
        "    model_train.compile(optimizer, loss=\"binary_crossentropy\", metrics=[\"acc\"])\n",
        "    #model_train.compile(optimizer, loss=\"categorical_crossentropy\", metrics=[\"acc\"])  # softmaxの場合\n",
        "    if is_print:\n",
        "        print(model_train.summary())\n",
        "\n",
        "    return model_train, model_pred\n",
        "\n",
        "# 試しに実行\n",
        "build_model(0.1, is_print=True)"
      ],
      "execution_count": 11,
      "outputs": [
        {
          "output_type": "stream",
          "name": "stdout",
          "text": [
            "[<KerasTensor: shape=(None, 22) dtype=int32 (created by layer 'input_ids')>,\n",
            " <KerasTensor: shape=(None, 22) dtype=int32 (created by layer 'token_type_ids')>,\n",
            " <KerasTensor: shape=(None, 22) dtype=int32 (created by layer 'attention_mask')>]\n",
            "Model: \"model\"\n",
            "__________________________________________________________________________________________________\n",
            "Layer (type)                    Output Shape         Param #     Connected to                     \n",
            "==================================================================================================\n",
            "input_ids (InputLayer)          [(None, 22)]         0                                            \n",
            "__________________________________________________________________________________________________\n",
            "token_type_ids (InputLayer)     [(None, 22)]         0                                            \n",
            "__________________________________________________________________________________________________\n",
            "attention_mask (InputLayer)     [(None, 22)]         0                                            \n",
            "__________________________________________________________________________________________________\n",
            "tf_bert_model_1 (TFBertModel)   TFBaseModelOutputWit 109482240   input_ids[0][0]                  \n",
            "                                                                 token_type_ids[0][0]             \n",
            "                                                                 attention_mask[0][0]             \n",
            "__________________________________________________________________________________________________\n",
            "tf.__operators__.getitem (Slici (None, 768)          0           tf_bert_model_1[0][0]            \n",
            "__________________________________________________________________________________________________\n",
            "dropout_74 (Dropout)            (None, 768)          0           tf.__operators__.getitem[0][0]   \n",
            "__________________________________________________________________________________________________\n",
            "dense (Dense)                   (None, 1)            769         dropout_74[0][0]                 \n",
            "==================================================================================================\n",
            "Total params: 109,483,009\n",
            "Trainable params: 109,483,009\n",
            "Non-trainable params: 0\n",
            "__________________________________________________________________________________________________\n",
            "None\n"
          ]
        },
        {
          "output_type": "execute_result",
          "data": {
            "text/plain": [
              "(<keras.engine.functional.Functional at 0x7fbd36c7b3d0>,\n",
              " <keras.engine.functional.Functional at 0x7fbd36bec810>)"
            ]
          },
          "metadata": {},
          "execution_count": 11
        }
      ]
    },
    {
      "cell_type": "markdown",
      "metadata": {
        "id": "_-UZx4zPLU9c"
      },
      "source": [
        "#### 3-5. BERTの学習(ファインチューニング)"
      ]
    },
    {
      "cell_type": "code",
      "metadata": {
        "colab": {
          "base_uri": "https://localhost:8080/"
        },
        "id": "iWj1YeaiLS5Z",
        "outputId": "131c2efb-98a3-48c3-e8e9-88fa5a7eb331"
      },
      "source": [
        "import tensorflow as tf\n",
        "import os\n",
        "\n",
        "runtime_type = \"\"\n",
        "\n",
        "try:\n",
        "    if \"COLAB_TPU_ADDR\" in os.environ:\n",
        "        resolver = tf.distribute.cluster_resolver.TPUClusterResolver('grpc://' + os.environ['COLAB_TPU_ADDR'])\n",
        "    else:\n",
        "        resolver = tf.distribute.cluster_resolver.TPUClusterResolver()\n",
        "\n",
        "    #--- TPU\n",
        "    print('Running on TPU ', resolver.cluster_spec().as_dict()['worker'])\n",
        "    runtime_type = \"TPU\"\n",
        "\n",
        "    # This is the TPU initialization code that has to be at the beginning.\n",
        "    tf.config.experimental_connect_to_cluster(resolver)\n",
        "    tf.tpu.experimental.initialize_tpu_system(resolver)\n",
        "    tpu_strategy = tf.distribute.TPUStrategy(resolver)\n",
        "\n",
        "    tf.keras.backend.clear_session()\n",
        "    print(\"All devices: \", tf.config.list_logical_devices('TPU'))\n",
        "\n",
        "except ValueError:\n",
        "\n",
        "    if tf.test.gpu_device_name() != \"\":\n",
        "        #--- GPU\n",
        "        runtime_type = \"GPU\"\n",
        "    else:\n",
        "        runtime_type = \"CPU\"\n",
        "\n",
        "print(\"runtime_type: \", runtime_type)"
      ],
      "execution_count": 12,
      "outputs": [
        {
          "output_type": "stream",
          "name": "stderr",
          "text": [
            "INFO:absl:Entering into master device scope: /job:worker/replica:0/task:0/device:CPU:0\n"
          ]
        },
        {
          "output_type": "stream",
          "name": "stdout",
          "text": [
            "Running on TPU  ['10.127.224.202:8470']\n",
            "All devices:  [LogicalDevice(name='/job:worker/replica:0/task:0/device:TPU:0', device_type='TPU'), LogicalDevice(name='/job:worker/replica:0/task:0/device:TPU:1', device_type='TPU'), LogicalDevice(name='/job:worker/replica:0/task:0/device:TPU:2', device_type='TPU'), LogicalDevice(name='/job:worker/replica:0/task:0/device:TPU:3', device_type='TPU'), LogicalDevice(name='/job:worker/replica:0/task:0/device:TPU:4', device_type='TPU'), LogicalDevice(name='/job:worker/replica:0/task:0/device:TPU:5', device_type='TPU'), LogicalDevice(name='/job:worker/replica:0/task:0/device:TPU:6', device_type='TPU'), LogicalDevice(name='/job:worker/replica:0/task:0/device:TPU:7', device_type='TPU')]\n",
            "runtime_type:  TPU\n"
          ]
        }
      ]
    },
    {
      "cell_type": "markdown",
      "metadata": {
        "id": "o2szkJhAMGQo"
      },
      "source": [
        "#### 3.6 学習コード"
      ]
    },
    {
      "cell_type": "code",
      "metadata": {
        "colab": {
          "base_uri": "https://localhost:8080/"
        },
        "id": "FmwK6rnULgIc",
        "outputId": "da136cee-e5be-4ebb-981d-4cd345e3bafa"
      },
      "source": [
        "import sklearn.metrics\n",
        "def train_bert(\n",
        "        df_train,       # 学習用のデータ\n",
        "        text_column,    # 対象のカラム名\n",
        "        target_column,  # 目的変数のカラム名\n",
        "        df_valid=None,  # 検証用データ\n",
        "        df_pred_list=[],       # 予測用データ\n",
        "        model_file_prefix=\"\",  # 保存時のファイル名識別子\n",
        "        epochs=20,\n",
        "        batch_size=8,\n",
        "    ):\n",
        "\n",
        "    #--------------------\n",
        "    # 学習率\n",
        "    #--------------------\n",
        "    lr0 = 0.000005\n",
        "    learning_rate = [\n",
        "        0.00001,\n",
        "        0.00002,\n",
        "    ]\n",
        "    if epochs-len(learning_rate) > 0:\n",
        "        lr_list = np.linspace(0.00002, 0, epochs-len(learning_rate))\n",
        "        learning_rate.extend(lr_list)\n",
        "    def lr_scheduler(epoch):\n",
        "        return learning_rate[epoch]\n",
        "    lr_callback = tf.keras.callbacks.LearningRateScheduler(lr_scheduler)\n",
        "\n",
        "\n",
        "    #--------------------\n",
        "    # file\n",
        "    #--------------------\n",
        "    model_path = \"{}_{}.h5\".format(\n",
        "        model_file_prefix, \n",
        "        pretrained_model_name, \n",
        "    )\n",
        "\n",
        "\n",
        "    #--------------------\n",
        "    # モデル\n",
        "    #--------------------\n",
        "    if runtime_type == \"TPU\":\n",
        "        with tpu_strategy.scope():\n",
        "            model_train, model_pred = build_model(lr0)\n",
        "    else:\n",
        "        model_train, model_pred = build_model(lr0)\n",
        "\n",
        "\n",
        "    #-----------------------------\n",
        "    # モデル入出力用のデータ作成関数\n",
        "    #-----------------------------\n",
        "    def _build_x_from_df(df):\n",
        "        # Series -> list\n",
        "        x = df[text_column].tolist()\n",
        "\n",
        "        # tokenize\n",
        "        x = tokenizer(x, padding=\"max_length\", max_length=sequence_max_length, \n",
        "            truncation=True, return_tensors=\"tf\")\n",
        "\n",
        "        # BatchEncoding -> dict\n",
        "        return dict(x)\n",
        "\n",
        "    def _build_y_from_df(df):\n",
        "        return df[target_column]\n",
        "        #return tf.keras.utils.to_categorical(df[target_column], num_classes=2)  # softmax用\n",
        "\n",
        "\n",
        "    #-------------------\n",
        "    # valid用のdatasetを作成\n",
        "    #-------------------\n",
        "    if df_valid is not None:\n",
        "        valid_x = _build_x_from_df(df_valid)\n",
        "        valid_y = _build_y_from_df(df_valid)\n",
        "        valid_dataset = (\n",
        "            tf.data.Dataset.from_tensor_slices((valid_x, valid_y))\n",
        "            .batch(batch_size)\n",
        "            .cache()\n",
        "        )\n",
        "    else:\n",
        "        valid_dataset = None\n",
        "\n",
        "\n",
        "    #-------------------\n",
        "    # 学習\n",
        "    #-------------------\n",
        "    if os.path.isfile(model_path):\n",
        "        # 学習済みモデルをload\n",
        "        print(model_path)\n",
        "        model_train.load_weights(model_path)\n",
        "    else:\n",
        "        train_x = _build_x_from_df(df_train)\n",
        "        train_y = _build_y_from_df(df_train)\n",
        "        train_dataset = (\n",
        "            tf.data.Dataset.from_tensor_slices((train_x, train_y))\n",
        "            .shuffle(len(train_x), seed=1234)\n",
        "            .batch(batch_size)\n",
        "            .prefetch(tf.data.experimental.AUTOTUNE)  # GPUが計算している間にBatchデータをCPU側で用意しておく機能\n",
        "        )\n",
        "\n",
        "        model_train.fit(train_dataset, epochs=epochs, validation_data=valid_dataset, callbacks=[lr_callback])\n",
        "        model_train.save_weights(model_path)\n",
        "\n",
        "    #-------------------\n",
        "    # 評価\n",
        "    #-------------------\n",
        "    if df_valid is not None:\n",
        "        print(\"valid\")\n",
        "        pred_y = model_train.predict(valid_dataset, verbose=1)\n",
        "\n",
        "        # 正解率\n",
        "        pred_y_label = np.where(pred_y < 0.5, 0, 1)\n",
        "        metric = sklearn.metrics.accuracy_score(valid_y, pred_y_label)\n",
        "        print(\"acc\", metric)\n",
        "    else:\n",
        "        metric = 0\n",
        "\n",
        "    #-------------------\n",
        "    # 予測\n",
        "    #-------------------\n",
        "    print(\"pred\")\n",
        "    pred_y_list = []\n",
        "    emb_list = []\n",
        "    for df_pred in df_pred_list:\n",
        "\n",
        "        pred_x = _build_x_from_df(df_pred)\n",
        "        pred_dataset = (\n",
        "            tf.data.Dataset.from_tensor_slices((pred_x,))\n",
        "            .batch(batch_size)\n",
        "            .cache()\n",
        "        )\n",
        "\n",
        "        # 予測\n",
        "        pred_output = model_pred.predict(pred_dataset, verbose=1)\n",
        "\n",
        "        # pred\n",
        "        pred_y = pred_output[0].reshape((-1,))  # (-1,1) -> (-1)\n",
        "        #pred_y = pred_y[0][:,1]  # softmax用\n",
        "        pred_y_list.append(pred_y)\n",
        "\n",
        "        # emb\n",
        "        emb_list.append(pred_output[1])\n",
        "\n",
        "    return metric, pred_y_list, emb_list\n",
        "\n",
        "#--- 実行例\n",
        "metric, pred_y_list, emb_list = train_bert(\n",
        "    df_train=df[df[\"Survived\"].notnull()][:10],  # 学習データ\n",
        "    text_column=\"Name_normalize\",\n",
        "    target_column=\"Survived\",\n",
        "    df_valid=df[df[\"Survived\"].notnull()][:10],  # 検証データ(仮で学習データと同じ)\n",
        "    df_pred_list=[df[df[\"Survived\"].isnull()][:10]],  # 予測データ\n",
        "    epochs=2,  # 試しなので少な目\n",
        ")\n",
        "print(metric)\n",
        "print(pred_y_list[0].shape)\n",
        "print(emb_list[0].shape)"
      ],
      "execution_count": 13,
      "outputs": [
        {
          "output_type": "stream",
          "name": "stdout",
          "text": [
            "Epoch 1/2\n"
          ]
        },
        {
          "output_type": "stream",
          "name": "stderr",
          "text": [
            "INFO:absl:TPU has inputs with dynamic shapes: [<tf.Tensor 'Const:0' shape=() dtype=int32>, <tf.Tensor 'cond_8/Identity:0' shape=(None, 22) dtype=int32>, <tf.Tensor 'cond_8/Identity_1:0' shape=(None, 22) dtype=int32>, <tf.Tensor 'cond_8/Identity_2:0' shape=(None, 22) dtype=int32>, <tf.Tensor 'cond_8/Identity_3:0' shape=(None,) dtype=float64>]\n",
            "INFO:absl:TPU has inputs with dynamic shapes: [<tf.Tensor 'Const:0' shape=() dtype=int32>, <tf.Tensor 'cond_8/Identity:0' shape=(None, 22) dtype=int32>, <tf.Tensor 'cond_8/Identity_1:0' shape=(None, 22) dtype=int32>, <tf.Tensor 'cond_8/Identity_2:0' shape=(None, 22) dtype=int32>, <tf.Tensor 'cond_8/Identity_3:0' shape=(None,) dtype=float64>]\n"
          ]
        },
        {
          "output_type": "stream",
          "name": "stdout",
          "text": [
            "2/2 [==============================] - ETA: 0s - loss: 0.7329 - acc: 0.4000  "
          ]
        },
        {
          "output_type": "stream",
          "name": "stderr",
          "text": [
            "INFO:absl:TPU has inputs with dynamic shapes: [<tf.Tensor 'Const:0' shape=() dtype=int32>, <tf.Tensor 'cond_8/Identity:0' shape=(None, 22) dtype=int32>, <tf.Tensor 'cond_8/Identity_1:0' shape=(None, 22) dtype=int32>, <tf.Tensor 'cond_8/Identity_2:0' shape=(None, 22) dtype=int32>, <tf.Tensor 'cond_8/Identity_3:0' shape=(None,) dtype=float64>]\n"
          ]
        },
        {
          "output_type": "stream",
          "name": "stdout",
          "text": [
            "2/2 [==============================] - 82s 10s/step - loss: 0.7329 - acc: 0.4000 - val_loss: 0.6178 - val_acc: 0.9000\n",
            "Epoch 2/2\n",
            "2/2 [==============================] - 1s 1s/step - loss: 0.6124 - acc: 0.8000 - val_loss: 0.5541 - val_acc: 0.7000\n",
            "valid\n"
          ]
        },
        {
          "output_type": "stream",
          "name": "stderr",
          "text": [
            "INFO:absl:TPU has inputs with dynamic shapes: [<tf.Tensor 'Const:0' shape=() dtype=int32>, <tf.Tensor 'cond_8/Identity:0' shape=(None, 22) dtype=int32>, <tf.Tensor 'cond_8/Identity_1:0' shape=(None, 22) dtype=int32>, <tf.Tensor 'cond_8/Identity_2:0' shape=(None, 22) dtype=int32>, <tf.Tensor 'cond_8/Identity_3:0' shape=(None,) dtype=float64>]\n"
          ]
        },
        {
          "output_type": "stream",
          "name": "stdout",
          "text": [
            "2/2 [==============================] - 10s 5s/step\n",
            "acc 0.7\n",
            "pred\n"
          ]
        },
        {
          "output_type": "stream",
          "name": "stderr",
          "text": [
            "INFO:absl:TPU has inputs with dynamic shapes: [<tf.Tensor 'Const:0' shape=() dtype=int32>, <tf.Tensor 'cond_8/Identity:0' shape=(None, 22) dtype=int32>, <tf.Tensor 'cond_8/Identity_1:0' shape=(None, 22) dtype=int32>, <tf.Tensor 'cond_8/Identity_2:0' shape=(None, 22) dtype=int32>]\n"
          ]
        },
        {
          "output_type": "stream",
          "name": "stdout",
          "text": [
            "2/2 [==============================] - 10s 5s/step\n",
            "0.7\n",
            "(10,)\n",
            "(10, 768)\n"
          ]
        }
      ]
    },
    {
      "cell_type": "markdown",
      "metadata": {
        "id": "CA-BLSfTMRxw"
      },
      "source": [
        "## 4.BERTモデルから予測結果と特徴量を取得"
      ]
    },
    {
      "cell_type": "code",
      "metadata": {
        "colab": {
          "base_uri": "https://localhost:8080/"
        },
        "id": "Daz1nP2vMJV4",
        "outputId": "8b3eefd2-a2f8-4c8f-e07e-c63bce5bb01c"
      },
      "source": [
        "import sklearn.model_selection\n",
        "\n",
        "def train_cv(df, text_column, target_column, n_splits):\n",
        "\n",
        "    df_train = df[df[target_column].notnull()]\n",
        "    df_test = df[df[target_column].isnull()]\n",
        "\n",
        "    df_train_idx = df_train.index\n",
        "\n",
        "    # 結果用\n",
        "    df_pred = pd.DataFrame(df.index, columns=[\"index\"]).set_index(\"index\")\n",
        "    df_emb = pd.DataFrame(df.index, columns=[\"index\"]).set_index(\"index\")\n",
        "    df_emb_pred = None\n",
        "    metric_list = []\n",
        "\n",
        "    #----------------\n",
        "    # cross validation\n",
        "    #----------------\n",
        "    kf = sklearn.model_selection.StratifiedKFold(n_splits=n_splits, shuffle=True, random_state=1234)\n",
        "    for i, (train_idx, test_idx) in enumerate(kf.split(df_train, df_train[target_column])):\n",
        "        df_train_sub = df_train.iloc[train_idx]\n",
        "        df_test_sub = df_train.iloc[test_idx]\n",
        "\n",
        "        df_pred_list = [df_test_sub]\n",
        "        df_pred_list.append(df_test)\n",
        "\n",
        "        model_file_prefix = \"cv_{}\".format(i)\n",
        "\n",
        "        # train\n",
        "        metric, pred_y_list, emb_list = train_bert(\n",
        "            df_train=df_train_sub, \n",
        "            text_column=text_column,\n",
        "            target_column=target_column, \n",
        "            df_valid=df_test_sub,\n",
        "            df_pred_list=df_pred_list,\n",
        "            model_file_prefix=model_file_prefix,\n",
        "        )\n",
        "        metric_list.append(metric)\n",
        "\n",
        "        # 予測結果を保存\n",
        "        result_name = \"result_{}\".format(i)\n",
        "        df_pred.loc[df_train_idx[test_idx], result_name] = pred_y_list[0]\n",
        "        df_pred.loc[df_test.index, result_name] = pred_y_list[1]\n",
        "\n",
        "        #---------\n",
        "        a = pd.DataFrame(emb_list[0], index=df_train_idx[test_idx])\n",
        "        df_emb = df_emb.combine_first(a)\n",
        "\n",
        "        if df_emb_pred is None:\n",
        "            df_emb_pred = pd.DataFrame(emb_list[1], index=df_test.index)\n",
        "        else:\n",
        "            df_emb_pred += emb_list[1]\n",
        "\n",
        "\n",
        "    pred_y = df_pred.mean(axis=1)\n",
        "\n",
        "    df_emb_pred /= n_splits\n",
        "    df_emb = df_emb.combine_first(df_emb_pred)\n",
        "\n",
        "    return np.mean(metric_list), pred_y.values, df_emb\n",
        "\n",
        "#--- 結果と特徴量を取得\n",
        "metric, pred_y, df_emb = train_cv(df, \"Name_normalize\", \"Survived\", n_splits=3)\n",
        "print(metric)\n",
        "print(pred_y.shape)\n",
        "print(df_emb.shape)"
      ],
      "execution_count": 14,
      "outputs": [
        {
          "output_type": "stream",
          "name": "stdout",
          "text": [
            "Epoch 1/20\n"
          ]
        },
        {
          "output_type": "stream",
          "name": "stderr",
          "text": [
            "INFO:absl:TPU has inputs with dynamic shapes: [<tf.Tensor 'Const:0' shape=() dtype=int32>, <tf.Tensor 'cond_8/Identity:0' shape=(None, 22) dtype=int32>, <tf.Tensor 'cond_8/Identity_1:0' shape=(None, 22) dtype=int32>, <tf.Tensor 'cond_8/Identity_2:0' shape=(None, 22) dtype=int32>, <tf.Tensor 'cond_8/Identity_3:0' shape=(None,) dtype=float64>]\n",
            "INFO:absl:TPU has inputs with dynamic shapes: [<tf.Tensor 'Const:0' shape=() dtype=int32>, <tf.Tensor 'cond_8/Identity:0' shape=(None, 22) dtype=int32>, <tf.Tensor 'cond_8/Identity_1:0' shape=(None, 22) dtype=int32>, <tf.Tensor 'cond_8/Identity_2:0' shape=(None, 22) dtype=int32>, <tf.Tensor 'cond_8/Identity_3:0' shape=(None,) dtype=float64>]\n"
          ]
        },
        {
          "output_type": "stream",
          "name": "stdout",
          "text": [
            "75/75 [==============================] - ETA: 0s - loss: 0.6355 - acc: 0.6532"
          ]
        },
        {
          "output_type": "stream",
          "name": "stderr",
          "text": [
            "INFO:absl:TPU has inputs with dynamic shapes: [<tf.Tensor 'Const:0' shape=() dtype=int32>, <tf.Tensor 'cond_8/Identity:0' shape=(None, 22) dtype=int32>, <tf.Tensor 'cond_8/Identity_1:0' shape=(None, 22) dtype=int32>, <tf.Tensor 'cond_8/Identity_2:0' shape=(None, 22) dtype=int32>, <tf.Tensor 'cond_8/Identity_3:0' shape=(None,) dtype=float64>]\n"
          ]
        },
        {
          "output_type": "stream",
          "name": "stdout",
          "text": [
            "75/75 [==============================] - 85s 200ms/step - loss: 0.6355 - acc: 0.6532 - val_loss: 0.6533 - val_acc: 0.6667\n",
            "Epoch 2/20\n",
            "75/75 [==============================] - 6s 80ms/step - loss: 0.5320 - acc: 0.7710 - val_loss: 0.5063 - val_acc: 0.7912\n",
            "Epoch 3/20\n",
            "75/75 [==============================] - 7s 88ms/step - loss: 0.4964 - acc: 0.7879 - val_loss: 0.4816 - val_acc: 0.8013\n",
            "Epoch 4/20\n",
            "75/75 [==============================] - 6s 81ms/step - loss: 0.4547 - acc: 0.8148 - val_loss: 0.4772 - val_acc: 0.8114\n",
            "Epoch 5/20\n",
            "75/75 [==============================] - 6s 84ms/step - loss: 0.3780 - acc: 0.8653 - val_loss: 0.5562 - val_acc: 0.8047\n",
            "Epoch 6/20\n",
            "75/75 [==============================] - 6s 82ms/step - loss: 0.3038 - acc: 0.8990 - val_loss: 0.6089 - val_acc: 0.7845\n",
            "Epoch 7/20\n",
            "75/75 [==============================] - 6s 82ms/step - loss: 0.2779 - acc: 0.9024 - val_loss: 0.6929 - val_acc: 0.7744\n",
            "Epoch 8/20\n",
            "75/75 [==============================] - 6s 83ms/step - loss: 0.2054 - acc: 0.9327 - val_loss: 0.6936 - val_acc: 0.8047\n",
            "Epoch 9/20\n",
            "75/75 [==============================] - 6s 80ms/step - loss: 0.1434 - acc: 0.9613 - val_loss: 0.8014 - val_acc: 0.7946\n",
            "Epoch 10/20\n",
            "75/75 [==============================] - 6s 81ms/step - loss: 0.1561 - acc: 0.9529 - val_loss: 0.7744 - val_acc: 0.7609\n",
            "Epoch 11/20\n",
            "75/75 [==============================] - 6s 81ms/step - loss: 0.1072 - acc: 0.9680 - val_loss: 0.8940 - val_acc: 0.7609\n",
            "Epoch 12/20\n",
            "75/75 [==============================] - 6s 81ms/step - loss: 0.0676 - acc: 0.9832 - val_loss: 0.9347 - val_acc: 0.7912\n",
            "Epoch 13/20\n",
            "75/75 [==============================] - 6s 82ms/step - loss: 0.0643 - acc: 0.9798 - val_loss: 0.9778 - val_acc: 0.7879\n",
            "Epoch 14/20\n",
            "75/75 [==============================] - 6s 82ms/step - loss: 0.0592 - acc: 0.9832 - val_loss: 0.9994 - val_acc: 0.7811\n",
            "Epoch 15/20\n",
            "75/75 [==============================] - 6s 80ms/step - loss: 0.0357 - acc: 0.9899 - val_loss: 1.0795 - val_acc: 0.7811\n",
            "Epoch 16/20\n",
            "75/75 [==============================] - 6s 80ms/step - loss: 0.0321 - acc: 0.9933 - val_loss: 1.0894 - val_acc: 0.7744\n",
            "Epoch 17/20\n",
            "75/75 [==============================] - 6s 81ms/step - loss: 0.0249 - acc: 0.9949 - val_loss: 1.0601 - val_acc: 0.7912\n",
            "Epoch 18/20\n",
            "75/75 [==============================] - 6s 81ms/step - loss: 0.0196 - acc: 0.9949 - val_loss: 1.0686 - val_acc: 0.7946\n",
            "Epoch 19/20\n",
            "75/75 [==============================] - 6s 81ms/step - loss: 0.0165 - acc: 0.9966 - val_loss: 1.0733 - val_acc: 0.7946\n",
            "Epoch 20/20\n",
            "75/75 [==============================] - 6s 81ms/step - loss: 0.0149 - acc: 0.9983 - val_loss: 1.0733 - val_acc: 0.7946\n",
            "valid\n"
          ]
        },
        {
          "output_type": "stream",
          "name": "stderr",
          "text": [
            "INFO:absl:TPU has inputs with dynamic shapes: [<tf.Tensor 'Const:0' shape=() dtype=int32>, <tf.Tensor 'cond_8/Identity:0' shape=(None, 22) dtype=int32>, <tf.Tensor 'cond_8/Identity_1:0' shape=(None, 22) dtype=int32>, <tf.Tensor 'cond_8/Identity_2:0' shape=(None, 22) dtype=int32>, <tf.Tensor 'cond_8/Identity_3:0' shape=(None,) dtype=float64>]\n"
          ]
        },
        {
          "output_type": "stream",
          "name": "stdout",
          "text": [
            "38/38 [==============================] - 11s 137ms/step\n",
            "acc 0.7946127946127947\n",
            "pred\n"
          ]
        },
        {
          "output_type": "stream",
          "name": "stderr",
          "text": [
            "INFO:absl:TPU has inputs with dynamic shapes: [<tf.Tensor 'Const:0' shape=() dtype=int32>, <tf.Tensor 'cond_8/Identity:0' shape=(None, 22) dtype=int32>, <tf.Tensor 'cond_8/Identity_1:0' shape=(None, 22) dtype=int32>, <tf.Tensor 'cond_8/Identity_2:0' shape=(None, 22) dtype=int32>]\n"
          ]
        },
        {
          "output_type": "stream",
          "name": "stdout",
          "text": [
            "38/38 [==============================] - 10s 140ms/step\n",
            "53/53 [==============================] - 2s 9ms/step\n",
            "Epoch 1/20\n"
          ]
        },
        {
          "output_type": "stream",
          "name": "stderr",
          "text": [
            "INFO:absl:TPU has inputs with dynamic shapes: [<tf.Tensor 'Const:0' shape=() dtype=int32>, <tf.Tensor 'cond_8/Identity:0' shape=(None, 22) dtype=int32>, <tf.Tensor 'cond_8/Identity_1:0' shape=(None, 22) dtype=int32>, <tf.Tensor 'cond_8/Identity_2:0' shape=(None, 22) dtype=int32>, <tf.Tensor 'cond_8/Identity_3:0' shape=(None,) dtype=float64>]\n",
            "INFO:absl:TPU has inputs with dynamic shapes: [<tf.Tensor 'Const:0' shape=() dtype=int32>, <tf.Tensor 'cond_8/Identity:0' shape=(None, 22) dtype=int32>, <tf.Tensor 'cond_8/Identity_1:0' shape=(None, 22) dtype=int32>, <tf.Tensor 'cond_8/Identity_2:0' shape=(None, 22) dtype=int32>, <tf.Tensor 'cond_8/Identity_3:0' shape=(None,) dtype=float64>]\n"
          ]
        },
        {
          "output_type": "stream",
          "name": "stdout",
          "text": [
            "75/75 [==============================] - ETA: 0s - loss: 0.6222 - acc: 0.6919"
          ]
        },
        {
          "output_type": "stream",
          "name": "stderr",
          "text": [
            "INFO:absl:TPU has inputs with dynamic shapes: [<tf.Tensor 'Const:0' shape=() dtype=int32>, <tf.Tensor 'cond_8/Identity:0' shape=(None, 22) dtype=int32>, <tf.Tensor 'cond_8/Identity_1:0' shape=(None, 22) dtype=int32>, <tf.Tensor 'cond_8/Identity_2:0' shape=(None, 22) dtype=int32>, <tf.Tensor 'cond_8/Identity_3:0' shape=(None,) dtype=float64>]\n"
          ]
        },
        {
          "output_type": "stream",
          "name": "stdout",
          "text": [
            "75/75 [==============================] - 88s 207ms/step - loss: 0.6222 - acc: 0.6919 - val_loss: 0.4836 - val_acc: 0.8013\n",
            "Epoch 2/20\n",
            "75/75 [==============================] - 6s 80ms/step - loss: 0.4964 - acc: 0.7946 - val_loss: 0.4877 - val_acc: 0.8081\n",
            "Epoch 3/20\n",
            "75/75 [==============================] - 6s 81ms/step - loss: 0.4378 - acc: 0.8199 - val_loss: 0.5679 - val_acc: 0.7778\n",
            "Epoch 4/20\n",
            "75/75 [==============================] - 6s 79ms/step - loss: 0.3383 - acc: 0.8670 - val_loss: 0.5603 - val_acc: 0.8148\n",
            "Epoch 5/20\n",
            "75/75 [==============================] - 6s 81ms/step - loss: 0.2208 - acc: 0.9192 - val_loss: 0.6273 - val_acc: 0.7980\n",
            "Epoch 6/20\n",
            "75/75 [==============================] - 6s 80ms/step - loss: 0.1517 - acc: 0.9444 - val_loss: 0.6256 - val_acc: 0.8114\n",
            "Epoch 7/20\n",
            "75/75 [==============================] - 6s 80ms/step - loss: 0.0812 - acc: 0.9731 - val_loss: 0.7591 - val_acc: 0.7845\n",
            "Epoch 8/20\n",
            "75/75 [==============================] - 6s 81ms/step - loss: 0.0780 - acc: 0.9714 - val_loss: 0.7342 - val_acc: 0.7778\n",
            "Epoch 9/20\n",
            "75/75 [==============================] - 6s 80ms/step - loss: 0.0420 - acc: 0.9899 - val_loss: 0.7571 - val_acc: 0.7912\n",
            "Epoch 10/20\n",
            "75/75 [==============================] - 6s 80ms/step - loss: 0.0202 - acc: 0.9966 - val_loss: 0.8545 - val_acc: 0.7744\n",
            "Epoch 11/20\n",
            "75/75 [==============================] - 6s 80ms/step - loss: 0.0202 - acc: 0.9933 - val_loss: 0.8694 - val_acc: 0.7744\n",
            "Epoch 12/20\n",
            "75/75 [==============================] - 6s 82ms/step - loss: 0.0244 - acc: 0.9916 - val_loss: 0.9650 - val_acc: 0.7542\n",
            "Epoch 13/20\n",
            "75/75 [==============================] - 6s 81ms/step - loss: 0.0087 - acc: 1.0000 - val_loss: 0.9320 - val_acc: 0.8047\n",
            "Epoch 14/20\n",
            "75/75 [==============================] - 6s 81ms/step - loss: 0.0037 - acc: 1.0000 - val_loss: 0.9403 - val_acc: 0.8047\n",
            "Epoch 15/20\n",
            "75/75 [==============================] - 6s 80ms/step - loss: 0.0031 - acc: 1.0000 - val_loss: 0.9580 - val_acc: 0.8047\n",
            "Epoch 16/20\n",
            "75/75 [==============================] - 6s 82ms/step - loss: 0.0029 - acc: 1.0000 - val_loss: 0.9739 - val_acc: 0.8013\n",
            "Epoch 17/20\n",
            "75/75 [==============================] - 6s 82ms/step - loss: 0.0029 - acc: 1.0000 - val_loss: 0.9720 - val_acc: 0.8081\n",
            "Epoch 18/20\n",
            "75/75 [==============================] - 6s 81ms/step - loss: 0.0025 - acc: 1.0000 - val_loss: 0.9768 - val_acc: 0.8081\n",
            "Epoch 19/20\n",
            "75/75 [==============================] - 7s 92ms/step - loss: 0.0029 - acc: 1.0000 - val_loss: 0.9899 - val_acc: 0.8013\n",
            "Epoch 20/20\n",
            "75/75 [==============================] - 6s 81ms/step - loss: 0.0024 - acc: 1.0000 - val_loss: 0.9899 - val_acc: 0.8013\n",
            "valid\n"
          ]
        },
        {
          "output_type": "stream",
          "name": "stderr",
          "text": [
            "INFO:absl:TPU has inputs with dynamic shapes: [<tf.Tensor 'Const:0' shape=() dtype=int32>, <tf.Tensor 'cond_8/Identity:0' shape=(None, 22) dtype=int32>, <tf.Tensor 'cond_8/Identity_1:0' shape=(None, 22) dtype=int32>, <tf.Tensor 'cond_8/Identity_2:0' shape=(None, 22) dtype=int32>, <tf.Tensor 'cond_8/Identity_3:0' shape=(None,) dtype=float64>]\n"
          ]
        },
        {
          "output_type": "stream",
          "name": "stdout",
          "text": [
            "38/38 [==============================] - 10s 140ms/step\n",
            "acc 0.8013468013468014\n",
            "pred\n"
          ]
        },
        {
          "output_type": "stream",
          "name": "stderr",
          "text": [
            "INFO:absl:TPU has inputs with dynamic shapes: [<tf.Tensor 'Const:0' shape=() dtype=int32>, <tf.Tensor 'cond_8/Identity:0' shape=(None, 22) dtype=int32>, <tf.Tensor 'cond_8/Identity_1:0' shape=(None, 22) dtype=int32>, <tf.Tensor 'cond_8/Identity_2:0' shape=(None, 22) dtype=int32>]\n"
          ]
        },
        {
          "output_type": "stream",
          "name": "stdout",
          "text": [
            "38/38 [==============================] - 10s 140ms/step\n",
            "53/53 [==============================] - 2s 9ms/step\n",
            "Epoch 1/20\n"
          ]
        },
        {
          "output_type": "stream",
          "name": "stderr",
          "text": [
            "INFO:absl:TPU has inputs with dynamic shapes: [<tf.Tensor 'Const:0' shape=() dtype=int32>, <tf.Tensor 'cond_8/Identity:0' shape=(None, 22) dtype=int32>, <tf.Tensor 'cond_8/Identity_1:0' shape=(None, 22) dtype=int32>, <tf.Tensor 'cond_8/Identity_2:0' shape=(None, 22) dtype=int32>, <tf.Tensor 'cond_8/Identity_3:0' shape=(None,) dtype=float64>]\n",
            "INFO:absl:TPU has inputs with dynamic shapes: [<tf.Tensor 'Const:0' shape=() dtype=int32>, <tf.Tensor 'cond_8/Identity:0' shape=(None, 22) dtype=int32>, <tf.Tensor 'cond_8/Identity_1:0' shape=(None, 22) dtype=int32>, <tf.Tensor 'cond_8/Identity_2:0' shape=(None, 22) dtype=int32>, <tf.Tensor 'cond_8/Identity_3:0' shape=(None,) dtype=float64>]\n"
          ]
        },
        {
          "output_type": "stream",
          "name": "stdout",
          "text": [
            "75/75 [==============================] - ETA: 0s - loss: 0.6020 - acc: 0.6987"
          ]
        },
        {
          "output_type": "stream",
          "name": "stderr",
          "text": [
            "INFO:absl:TPU has inputs with dynamic shapes: [<tf.Tensor 'Const:0' shape=() dtype=int32>, <tf.Tensor 'cond_8/Identity:0' shape=(None, 22) dtype=int32>, <tf.Tensor 'cond_8/Identity_1:0' shape=(None, 22) dtype=int32>, <tf.Tensor 'cond_8/Identity_2:0' shape=(None, 22) dtype=int32>, <tf.Tensor 'cond_8/Identity_3:0' shape=(None,) dtype=float64>]\n"
          ]
        },
        {
          "output_type": "stream",
          "name": "stdout",
          "text": [
            "75/75 [==============================] - 87s 205ms/step - loss: 0.6020 - acc: 0.6987 - val_loss: 0.5217 - val_acc: 0.7710\n",
            "Epoch 2/20\n",
            "75/75 [==============================] - 7s 89ms/step - loss: 0.4938 - acc: 0.8114 - val_loss: 0.5033 - val_acc: 0.7778\n",
            "Epoch 3/20\n",
            "75/75 [==============================] - 6s 81ms/step - loss: 0.4251 - acc: 0.8333 - val_loss: 0.5319 - val_acc: 0.7879\n",
            "Epoch 4/20\n",
            "75/75 [==============================] - 6s 81ms/step - loss: 0.3629 - acc: 0.8636 - val_loss: 0.6845 - val_acc: 0.6835\n",
            "Epoch 5/20\n",
            "75/75 [==============================] - 6s 82ms/step - loss: 0.3131 - acc: 0.8805 - val_loss: 0.5659 - val_acc: 0.7946\n",
            "Epoch 6/20\n",
            "75/75 [==============================] - 6s 82ms/step - loss: 0.1850 - acc: 0.9293 - val_loss: 0.7449 - val_acc: 0.7811\n",
            "Epoch 7/20\n",
            "75/75 [==============================] - 6s 84ms/step - loss: 0.0934 - acc: 0.9714 - val_loss: 0.8244 - val_acc: 0.7710\n",
            "Epoch 8/20\n",
            "75/75 [==============================] - 6s 81ms/step - loss: 0.0443 - acc: 0.9848 - val_loss: 0.8373 - val_acc: 0.8013\n",
            "Epoch 9/20\n",
            "75/75 [==============================] - 6s 80ms/step - loss: 0.0778 - acc: 0.9781 - val_loss: 0.9139 - val_acc: 0.7811\n",
            "Epoch 10/20\n",
            "75/75 [==============================] - 6s 80ms/step - loss: 0.0442 - acc: 0.9899 - val_loss: 0.9353 - val_acc: 0.7912\n",
            "Epoch 11/20\n",
            "75/75 [==============================] - 6s 81ms/step - loss: 0.0346 - acc: 0.9882 - val_loss: 0.9237 - val_acc: 0.7744\n",
            "Epoch 12/20\n",
            "75/75 [==============================] - 7s 92ms/step - loss: 0.0244 - acc: 0.9933 - val_loss: 0.8938 - val_acc: 0.7879\n",
            "Epoch 13/20\n",
            "75/75 [==============================] - 6s 82ms/step - loss: 0.0144 - acc: 0.9983 - val_loss: 1.0014 - val_acc: 0.7946\n",
            "Epoch 14/20\n",
            "75/75 [==============================] - 6s 81ms/step - loss: 0.0084 - acc: 0.9983 - val_loss: 1.0378 - val_acc: 0.7879\n",
            "Epoch 15/20\n",
            "75/75 [==============================] - 6s 81ms/step - loss: 0.0061 - acc: 1.0000 - val_loss: 1.0541 - val_acc: 0.8013\n",
            "Epoch 16/20\n",
            "75/75 [==============================] - 6s 80ms/step - loss: 0.0136 - acc: 0.9949 - val_loss: 1.0542 - val_acc: 0.8047\n",
            "Epoch 17/20\n",
            "75/75 [==============================] - 6s 80ms/step - loss: 0.0035 - acc: 1.0000 - val_loss: 1.0688 - val_acc: 0.7946\n",
            "Epoch 18/20\n",
            "75/75 [==============================] - 6s 80ms/step - loss: 0.0038 - acc: 1.0000 - val_loss: 1.0759 - val_acc: 0.8047\n",
            "Epoch 19/20\n",
            "75/75 [==============================] - 6s 81ms/step - loss: 0.0086 - acc: 0.9966 - val_loss: 1.0946 - val_acc: 0.7912\n",
            "Epoch 20/20\n",
            "75/75 [==============================] - 6s 81ms/step - loss: 0.0037 - acc: 1.0000 - val_loss: 1.0946 - val_acc: 0.7912\n",
            "valid\n"
          ]
        },
        {
          "output_type": "stream",
          "name": "stderr",
          "text": [
            "INFO:absl:TPU has inputs with dynamic shapes: [<tf.Tensor 'Const:0' shape=() dtype=int32>, <tf.Tensor 'cond_8/Identity:0' shape=(None, 22) dtype=int32>, <tf.Tensor 'cond_8/Identity_1:0' shape=(None, 22) dtype=int32>, <tf.Tensor 'cond_8/Identity_2:0' shape=(None, 22) dtype=int32>, <tf.Tensor 'cond_8/Identity_3:0' shape=(None,) dtype=float64>]\n"
          ]
        },
        {
          "output_type": "stream",
          "name": "stdout",
          "text": [
            "38/38 [==============================] - 11s 138ms/step\n",
            "acc 0.7912457912457912\n",
            "pred\n"
          ]
        },
        {
          "output_type": "stream",
          "name": "stderr",
          "text": [
            "INFO:absl:TPU has inputs with dynamic shapes: [<tf.Tensor 'Const:0' shape=() dtype=int32>, <tf.Tensor 'cond_8/Identity:0' shape=(None, 22) dtype=int32>, <tf.Tensor 'cond_8/Identity_1:0' shape=(None, 22) dtype=int32>, <tf.Tensor 'cond_8/Identity_2:0' shape=(None, 22) dtype=int32>]\n"
          ]
        },
        {
          "output_type": "stream",
          "name": "stdout",
          "text": [
            "38/38 [==============================] - 10s 142ms/step\n",
            "53/53 [==============================] - 2s 10ms/step\n",
            "0.7957351290684623\n",
            "(1309,)\n",
            "(1309, 768)\n"
          ]
        }
      ]
    },
    {
      "cell_type": "markdown",
      "metadata": {
        "id": "aG_8sY53MVfL"
      },
      "source": [
        "#### 4-1.予測結果を出力"
      ]
    },
    {
      "cell_type": "code",
      "metadata": {
        "colab": {
          "base_uri": "https://localhost:8080/"
        },
        "id": "UB5KwcmRMUCj",
        "outputId": "221459ef-08bd-4105-96d8-252805d8a797"
      },
      "source": [
        "df[\"BERT\"] = pred_y\n",
        "df[\"BERT_label\"] = np.where(pred_y < 0.5, 0, 1)\n",
        "\n",
        "# 学習データの正解率\n",
        "_df = df[df[\"Survived\"].notnull()]\n",
        "print(sklearn.metrics.accuracy_score(_df[\"Survived\"], _df[\"BERT_label\"]))\n",
        "\n",
        "# 予測結果をcsvで出力\n",
        "_df = df[df[\"Survived\"].isnull()]\n",
        "df_submit = pd.DataFrame()\n",
        "df_submit[\"PassengerId\"] = _df[\"PassengerId\"]\n",
        "df_submit[\"Survived\"] = _df[\"BERT_label\"]\n",
        "df_submit.to_csv('submit1.csv', header=True, index=False)"
      ],
      "execution_count": 15,
      "outputs": [
        {
          "output_type": "stream",
          "name": "stdout",
          "text": [
            "0.7957351290684624\n"
          ]
        }
      ]
    },
    {
      "cell_type": "code",
      "metadata": {
        "id": "OlzAtWmFMXXW"
      },
      "source": [
        ""
      ],
      "execution_count": 15,
      "outputs": []
    }
  ]
}